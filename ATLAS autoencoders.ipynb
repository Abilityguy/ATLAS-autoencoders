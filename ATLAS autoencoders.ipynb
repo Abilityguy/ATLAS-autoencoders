{
 "cells": [
  {
   "cell_type": "code",
   "execution_count": 1,
   "metadata": {},
   "outputs": [],
   "source": [
    "import pandas as pd\n",
    "import numpy as np"
   ]
  },
  {
   "cell_type": "code",
   "execution_count": 2,
   "metadata": {},
   "outputs": [],
   "source": [
    "# Manual inspections of monojet_Zp2000.0_DM_50.0_chan3.csv indicates a row can have at max 65 columns.\n",
    "# This means an event can contain an event in monojet_Zp2000.0_DM_50.0_chan3.csv can contain at max 10 objects.\n",
    "# To accomodate for the additional ';' delimiter at the end of line, we consider an additional column.\n",
    "\n",
    "max_columns = 65\n",
    "column_names = ['event ID', 'process ID', 'event weight', 'MET', 'METphi']\n",
    "n_obj = int((max_columns - 5) / 5) \n",
    "for i in range(1, n_obj + 1): #Subtracting 5 because first few columns are meta-data.\n",
    "    column_names.extend([f'obj{i}', f'E{i}', f'pt{i}', f'eta{i}', f'phi{i}'])\n",
    "    \n",
    "column_names.append('sentinel')"
   ]
  },
  {
   "cell_type": "code",
   "execution_count": 3,
   "metadata": {},
   "outputs": [],
   "source": [
    "df = pd.read_csv('monojet_Zp2000.0_DM_50.0_chan3.csv', header=None, sep=',|;', \n",
    "                 names=column_names, engine='python')"
   ]
  },
  {
   "cell_type": "code",
   "execution_count": 4,
   "metadata": {},
   "outputs": [
    {
     "data": {
      "text/html": [
       "<div>\n",
       "<style scoped>\n",
       "    .dataframe tbody tr th:only-of-type {\n",
       "        vertical-align: middle;\n",
       "    }\n",
       "\n",
       "    .dataframe tbody tr th {\n",
       "        vertical-align: top;\n",
       "    }\n",
       "\n",
       "    .dataframe thead th {\n",
       "        text-align: right;\n",
       "    }\n",
       "</style>\n",
       "<table border=\"1\" class=\"dataframe\">\n",
       "  <thead>\n",
       "    <tr style=\"text-align: right;\">\n",
       "      <th></th>\n",
       "      <th>event ID</th>\n",
       "      <th>process ID</th>\n",
       "      <th>event weight</th>\n",
       "      <th>MET</th>\n",
       "      <th>METphi</th>\n",
       "      <th>obj1</th>\n",
       "      <th>E1</th>\n",
       "      <th>pt1</th>\n",
       "      <th>eta1</th>\n",
       "      <th>phi1</th>\n",
       "      <th>...</th>\n",
       "      <th>obj11</th>\n",
       "      <th>E11</th>\n",
       "      <th>pt11</th>\n",
       "      <th>eta11</th>\n",
       "      <th>phi11</th>\n",
       "      <th>obj12</th>\n",
       "      <th>E12</th>\n",
       "      <th>pt12</th>\n",
       "      <th>eta12</th>\n",
       "      <th>phi12</th>\n",
       "    </tr>\n",
       "  </thead>\n",
       "  <tbody>\n",
       "    <tr>\n",
       "      <th>0</th>\n",
       "      <td>354</td>\n",
       "      <td>monojet_Zp2000.0_DM_50.0</td>\n",
       "      <td>0.000024</td>\n",
       "      <td>832841.0</td>\n",
       "      <td>-1.22431</td>\n",
       "      <td>b</td>\n",
       "      <td>947383.0</td>\n",
       "      <td>824498.0</td>\n",
       "      <td>-0.523103</td>\n",
       "      <td>1.644210</td>\n",
       "      <td>...</td>\n",
       "      <td>None</td>\n",
       "      <td>NaN</td>\n",
       "      <td>NaN</td>\n",
       "      <td>NaN</td>\n",
       "      <td>NaN</td>\n",
       "      <td>None</td>\n",
       "      <td>NaN</td>\n",
       "      <td>NaN</td>\n",
       "      <td>NaN</td>\n",
       "      <td>NaN</td>\n",
       "    </tr>\n",
       "    <tr>\n",
       "      <th>1</th>\n",
       "      <td>354</td>\n",
       "      <td>monojet_Zp2000.0_DM_50.0</td>\n",
       "      <td>0.000024</td>\n",
       "      <td>732115.0</td>\n",
       "      <td>1.17245</td>\n",
       "      <td>j</td>\n",
       "      <td>1069460.0</td>\n",
       "      <td>751597.0</td>\n",
       "      <td>0.858186</td>\n",
       "      <td>-1.842170</td>\n",
       "      <td>...</td>\n",
       "      <td>None</td>\n",
       "      <td>NaN</td>\n",
       "      <td>NaN</td>\n",
       "      <td>NaN</td>\n",
       "      <td>NaN</td>\n",
       "      <td>None</td>\n",
       "      <td>NaN</td>\n",
       "      <td>NaN</td>\n",
       "      <td>NaN</td>\n",
       "      <td>NaN</td>\n",
       "    </tr>\n",
       "    <tr>\n",
       "      <th>2</th>\n",
       "      <td>354</td>\n",
       "      <td>monojet_Zp2000.0_DM_50.0</td>\n",
       "      <td>0.000024</td>\n",
       "      <td>1056280.0</td>\n",
       "      <td>-3.06744</td>\n",
       "      <td>j</td>\n",
       "      <td>676000.0</td>\n",
       "      <td>640429.0</td>\n",
       "      <td>0.330450</td>\n",
       "      <td>0.704554</td>\n",
       "      <td>...</td>\n",
       "      <td>None</td>\n",
       "      <td>NaN</td>\n",
       "      <td>NaN</td>\n",
       "      <td>NaN</td>\n",
       "      <td>NaN</td>\n",
       "      <td>None</td>\n",
       "      <td>NaN</td>\n",
       "      <td>NaN</td>\n",
       "      <td>NaN</td>\n",
       "      <td>NaN</td>\n",
       "    </tr>\n",
       "    <tr>\n",
       "      <th>3</th>\n",
       "      <td>354</td>\n",
       "      <td>monojet_Zp2000.0_DM_50.0</td>\n",
       "      <td>0.000024</td>\n",
       "      <td>631781.0</td>\n",
       "      <td>1.64181</td>\n",
       "      <td>j</td>\n",
       "      <td>936707.0</td>\n",
       "      <td>616229.0</td>\n",
       "      <td>0.973383</td>\n",
       "      <td>-1.565920</td>\n",
       "      <td>...</td>\n",
       "      <td>None</td>\n",
       "      <td>NaN</td>\n",
       "      <td>NaN</td>\n",
       "      <td>NaN</td>\n",
       "      <td>NaN</td>\n",
       "      <td>None</td>\n",
       "      <td>NaN</td>\n",
       "      <td>NaN</td>\n",
       "      <td>NaN</td>\n",
       "      <td>NaN</td>\n",
       "    </tr>\n",
       "    <tr>\n",
       "      <th>4</th>\n",
       "      <td>354</td>\n",
       "      <td>monojet_Zp2000.0_DM_50.0</td>\n",
       "      <td>0.000024</td>\n",
       "      <td>457316.0</td>\n",
       "      <td>-1.87536</td>\n",
       "      <td>j</td>\n",
       "      <td>640313.0</td>\n",
       "      <td>589524.0</td>\n",
       "      <td>0.390749</td>\n",
       "      <td>1.237340</td>\n",
       "      <td>...</td>\n",
       "      <td>None</td>\n",
       "      <td>NaN</td>\n",
       "      <td>NaN</td>\n",
       "      <td>NaN</td>\n",
       "      <td>NaN</td>\n",
       "      <td>None</td>\n",
       "      <td>NaN</td>\n",
       "      <td>NaN</td>\n",
       "      <td>NaN</td>\n",
       "      <td>NaN</td>\n",
       "    </tr>\n",
       "  </tbody>\n",
       "</table>\n",
       "<p>5 rows × 65 columns</p>\n",
       "</div>"
      ],
      "text/plain": [
       "   event ID                process ID  event weight        MET   METphi obj1  \\\n",
       "0       354  monojet_Zp2000.0_DM_50.0      0.000024   832841.0 -1.22431    b   \n",
       "1       354  monojet_Zp2000.0_DM_50.0      0.000024   732115.0  1.17245    j   \n",
       "2       354  monojet_Zp2000.0_DM_50.0      0.000024  1056280.0 -3.06744    j   \n",
       "3       354  monojet_Zp2000.0_DM_50.0      0.000024   631781.0  1.64181    j   \n",
       "4       354  monojet_Zp2000.0_DM_50.0      0.000024   457316.0 -1.87536    j   \n",
       "\n",
       "          E1       pt1      eta1      phi1  ... obj11  E11  pt11  eta11  \\\n",
       "0   947383.0  824498.0 -0.523103  1.644210  ...  None  NaN   NaN    NaN   \n",
       "1  1069460.0  751597.0  0.858186 -1.842170  ...  None  NaN   NaN    NaN   \n",
       "2   676000.0  640429.0  0.330450  0.704554  ...  None  NaN   NaN    NaN   \n",
       "3   936707.0  616229.0  0.973383 -1.565920  ...  None  NaN   NaN    NaN   \n",
       "4   640313.0  589524.0  0.390749  1.237340  ...  None  NaN   NaN    NaN   \n",
       "\n",
       "   phi11 obj12  E12  pt12  eta12  phi12  \n",
       "0    NaN  None  NaN   NaN    NaN    NaN  \n",
       "1    NaN  None  NaN   NaN    NaN    NaN  \n",
       "2    NaN  None  NaN   NaN    NaN    NaN  \n",
       "3    NaN  None  NaN   NaN    NaN    NaN  \n",
       "4    NaN  None  NaN   NaN    NaN    NaN  \n",
       "\n",
       "[5 rows x 65 columns]"
      ]
     },
     "execution_count": 4,
     "metadata": {},
     "output_type": "execute_result"
    }
   ],
   "source": [
    "df.drop('sentinel', axis=1, inplace=True)\n",
    "df.head()"
   ]
  },
  {
   "cell_type": "code",
   "execution_count": 5,
   "metadata": {},
   "outputs": [
    {
     "name": "stdout",
     "output_type": "stream",
     "text": [
      "The number of entries in the training data: 22661\n",
      "          E        pt       eta      phi\n",
      "0  258722.0  243675.0  0.328962  2.25014\n",
      "1  520092.0  108590.0 -2.247300 -1.85679\n",
      "2  383024.0   88405.6  2.145160 -1.95635\n",
      "3   39507.6   35365.1  0.470460 -1.16445\n",
      "4  225430.0   26878.2 -2.816080 -2.25938\n"
     ]
    }
   ],
   "source": [
    "# filter the dataframe to keep only jet particles and their values of E, pt, eta and phi\n",
    "filtered_particles = list()\n",
    "\n",
    "for _, row in df.iterrows():\n",
    "    for i in range(1, n_obj + 1): #iterate over different objects in an event.\n",
    "        if(row[f'obj{i}'] == 'j'):\n",
    "            e = row[f'E{i}']\n",
    "            pt = row[f'pt{i}']\n",
    "            eta = row[f'eta{i}']\n",
    "            phi = row[f'phi{i}']\n",
    "            \n",
    "            filtered_particles.append([e, pt, eta, phi])\n",
    "            \n",
    "data = pd.DataFrame(filtered_particles, columns=['E', 'pt', 'eta', 'phi'])\n",
    "print(f'The number of entries in the training data: {len(data)}')\n",
    "print(data.head())"
   ]
  },
  {
   "cell_type": "code",
   "execution_count": 6,
   "metadata": {},
   "outputs": [
    {
     "name": "stdout",
     "output_type": "stream",
     "text": [
      "Training sample:\n",
      "               E         pt       eta       phi\n",
      "10013   976059.0    48162.9  3.701440 -2.045010\n",
      "20458  1557960.0  1358810.0 -0.530304 -1.091960\n",
      "10667   103278.0    96602.1 -0.352841  2.540710\n",
      "12549    31522.0    25080.4 -0.702196  1.964800\n",
      "627     958447.0   603416.0  1.036860  0.763274\n",
      "\n",
      "\n",
      "Testing sample:\n",
      "               E        pt      eta       phi\n",
      "5045   1652970.0  815901.0  1.33087 -2.160300\n",
      "16581   126804.0   38630.2  1.85703 -3.110990\n",
      "14297   238445.0   43793.7 -2.37781 -3.020250\n",
      "9458    987941.0  427600.0  1.47994 -0.563225\n",
      "18347   965804.0   93393.3 -3.02680  0.235121\n",
      "\n",
      "\n",
      "The number of entries in the training data: 15862\n",
      "The number of entries in the validation data: 6799\n"
     ]
    }
   ],
   "source": [
    "#Splitting the data into train and test splits\n",
    "from sklearn.model_selection import train_test_split\n",
    "\n",
    "train, test = train_test_split(data, test_size=0.3, random_state=1729)\n",
    "\n",
    "print('Training sample:')\n",
    "print(train.head())\n",
    "\n",
    "print('\\n')\n",
    "\n",
    "print('Testing sample:')\n",
    "print(test.head())\n",
    "\n",
    "print('\\n')\n",
    "\n",
    "print(f'The number of entries in the training data: {len(train)}')\n",
    "print(f'The number of entries in the validation data: {len(test)}')"
   ]
  },
  {
   "cell_type": "code",
   "execution_count": 7,
   "metadata": {},
   "outputs": [],
   "source": [
    "import os\n",
    "save_dir = \"plotOutput\"\n",
    "if not os.path.exists(save_dir):\n",
    "    os.makedirs(save_dir)\n",
    "    \n",
    "save = True # Option to save figure"
   ]
  },
  {
   "cell_type": "code",
   "execution_count": 8,
   "metadata": {},
   "outputs": [
    {
     "data": {
      "image/png": "[encoded data removed]",
      "text/plain": [
       "<Figure size 720x540 with 1 Axes>"
      ]
     },
     "metadata": {
      "needs_background": "light"
     },
     "output_type": "display_data"
    },
    {
     "data": {
      "image/png": "[encoded data removed]",
      "text/plain": [
       "<Figure size 720x540 with 1 Axes>"
      ]
     },
     "metadata": {
      "needs_background": "light"
     },
     "output_type": "display_data"
    },
    {
     "data": {
      "image/png": "[encoded data removed]",
      "text/plain": [
       "<Figure size 720x540 with 1 Axes>"
      ]
     },
     "metadata": {
      "needs_background": "light"
     },
     "output_type": "display_data"
    },
    {
     "data": {
      "image/png": "[encoded data removed]",
      "text/plain": [
       "<Figure size 720x540 with 1 Axes>"
      ]
     },
     "metadata": {
      "needs_background": "light"
     },
     "output_type": "display_data"
    }
   ],
   "source": [
    "import matplotlib.pyplot as plt\n",
    "%matplotlib inline\n",
    "\n",
    "unit_list = ['[log(GeV)]', '[log(GeV)]', '[rad/3]', '[rad/3]']\n",
    "variable_list = [r'$E$', r'$p_T$', r'$\\eta$', r'$\\phi$']\n",
    "\n",
    "branches=[\"E\", \"pt\",\"eta\",\"phi\"]\n",
    "\n",
    "n_bins = 100\n",
    "\n",
    "for kk in range(0,4):\n",
    "    plt.figure(figsize=(10,7.5))\n",
    "    n_hist_data, bin_edges, _ = plt.hist(train[branches[kk]], color='gray', label='Input', alpha=1, bins=n_bins)\n",
    "    plt.xlabel(xlabel=variable_list[kk] + ' ' + unit_list[kk])\n",
    "    plt.ylabel('# of events')\n",
    "    if save:\n",
    "        plt.savefig(os.path.join(save_dir,f'data_' + test.columns[kk] + '.png'))"
   ]
  },
  {
   "cell_type": "code",
   "execution_count": 9,
   "metadata": {},
   "outputs": [],
   "source": [
    "from sklearn.preprocessing import MinMaxScaler\n",
    "from sklearn.preprocessing import StandardScaler\n",
    "\n",
    "def apply_log(train_x, test_x, f_name):\n",
    "    train_x[f_name] = train_x[f_name].apply(lambda x : np.log(1 + x))\n",
    "    test_x[f_name] = test_x[f_name].apply(lambda x : np.log(1 + x))\n",
    "    \n",
    "    return train_x, test_x\n",
    "    \n",
    "def apply_scaler(train_x, test_x, f_name, scaler):\n",
    "    scaler.fit(train_x[f_name].to_numpy().reshape(-1, 1))\n",
    "    train_x[f_name] = scaler.transform(train_x[f_name].to_numpy().reshape(-1, 1))\n",
    "    test_x[f_name] = scaler.transform(test_x[f_name].to_numpy().reshape(-1, 1))\n",
    "    \n",
    "    return train_x, test_x, scaler\n",
    "    \n",
    "def custom_scaler(train, test):\n",
    "    #Since \\eta follows a normal distribution, we can use standardScaler to scale it.\n",
    "    #For E and pt we can use log(1 + x)\n",
    "    # for \\phi, we can use MinMaxScaling\n",
    "    \n",
    "    train_x = train.copy(deep=True)\n",
    "    test_x = test.copy(deep=True)\n",
    "    \n",
    "    standard_scaler_eta = StandardScaler()\n",
    "    min_max_scaler_e = MinMaxScaler()\n",
    "    min_max_scaler_pt = MinMaxScaler()\n",
    "    min_max_scaler_phi = MinMaxScaler()\n",
    "    \n",
    "    \n",
    "    train_x, test_x = apply_log(train_x, test_x, 'E')\n",
    "    train_x, test_x, min_max_scaler_e = apply_scaler(train_x, test_x, 'E', min_max_scaler_e)\n",
    "    \n",
    "    train_x, test_x = apply_log(train_x, test_x, 'pt')\n",
    "    train_x, test_x, min_max_scaler_pt = apply_scaler(train_x, test_x, 'pt', min_max_scaler_pt)\n",
    "    \n",
    "    train_x, test_x, standard_scaler_eta = apply_scaler(train_x, test_x, 'eta', standard_scaler_eta)\n",
    "    \n",
    "    train_x, test_x, min_max_scaler_phi = apply_scaler(train_x, test_x, 'phi', min_max_scaler_phi)\n",
    "    \n",
    "    return train_x, test_x, min_max_scaler_e, min_max_scaler_pt, standard_scaler_eta, min_max_scaler_phi"
   ]
  },
  {
   "cell_type": "code",
   "execution_count": 10,
   "metadata": {},
   "outputs": [],
   "source": [
    "def apply_inverse_scaler(data_x, f_name, scaler):\n",
    "    data_x[f_name] = scaler.inverse_transform(data_x[f_name].to_numpy().reshape(-1, 1))\n",
    "    \n",
    "    return data_x \n",
    "\n",
    "def apply_exp(data_x, f_name):\n",
    "    data_x[f_name] = data_x[f_name].apply(lambda x : np.exp(1 + x))\n",
    "    \n",
    "    return data_x\n",
    "\n",
    "def denormalise_data(data, min_max_scaler_e, min_max_scaler_pt, standard_scaler_eta, min_max_scaler_phi):\n",
    "    \n",
    "    data_x = data.copy(deep=True)\n",
    "    data_x = apply_inverse_scaler(data_x, 'E', min_max_scaler_e)\n",
    "    data_x = apply_exp(data_x, 'E')\n",
    "    \n",
    "    data_x = apply_inverse_scaler(data_x, 'pt', min_max_scaler_pt)\n",
    "    data_x = apply_exp(data_x, 'pt')\n",
    "    \n",
    "    data_x = apply_inverse_scaler(data_x, 'eta', standard_scaler_eta)\n",
    "    \n",
    "    data_x = apply_inverse_scaler(data_x, 'phi', min_max_scaler_phi)\n",
    "    \n",
    "    return data_x"
   ]
  },
  {
   "cell_type": "code",
   "execution_count": 11,
   "metadata": {},
   "outputs": [
    {
     "name": "stdout",
     "output_type": "stream",
     "text": [
      "Normalised Training sample:\n",
      "              E        pt       eta       phi\n",
      "10013  0.709275  0.171328  2.448788  0.174370\n",
      "20458  0.799368  0.905289 -0.356843  0.326093\n",
      "10667  0.276523  0.324285 -0.239186  0.904402\n",
      "12549  0.047880  0.027935 -0.470807  0.812719\n",
      "627    0.705766  0.726893  0.682181  0.621440\n",
      "\n",
      "\n",
      "Normalised Testing sample:\n",
      "              E        pt       eta       phi\n",
      "5045   0.810773  0.793193  0.877109  0.156016\n",
      "16581  0.316062  0.122859  1.225951  0.004669\n",
      "14297  0.437731  0.150429 -1.581733  0.019115\n",
      "9458   0.711606  0.651202  0.975942  0.410265\n",
      "18347  0.707240  0.316861 -2.012011  0.537360\n",
      "\n",
      "\n"
     ]
    }
   ],
   "source": [
    "# 1 for custom scaling, 2 for StandardScaler, 3 for MinMaxScaler\n",
    "scaling_method = 1\n",
    "\n",
    "if (scaling_method == 1):\n",
    "    train_x, test_x, min_max_scaler_e, min_max_scaler_pt, standard_scaler_eta, min_max_scaler_phi \\\n",
    "        = custom_scaler(train, test)\n",
    "\n",
    "else:\n",
    "    if (scaling_method == 2):\n",
    "        scaler = StandardScaler()\n",
    "    elif(scaling_method == 3):\n",
    "        scaler = MinMaxScaler()\n",
    "    \n",
    "    scaler.fit(train)\n",
    "\n",
    "    train_x = pd.DataFrame(scaler.transform(train.to_numpy()), columns=train.columns)\n",
    "    test_x = pd.DataFrame(scaler.transform(test.to_numpy()), columns=test.columns)\n",
    "\n",
    "print('Normalised Training sample:')\n",
    "print(train_x.head())\n",
    "\n",
    "print('\\n')\n",
    "\n",
    "print('Normalised Testing sample:')\n",
    "print(test_x.head())\n",
    "\n",
    "print('\\n')"
   ]
  },
  {
   "cell_type": "code",
   "execution_count": 12,
   "metadata": {},
   "outputs": [],
   "source": [
    "import torch\n",
    "import torch.nn as nn\n",
    "import torch.optim as optim\n",
    "import torch.utils.data\n",
    "from torch.autograd import Variable\n",
    "\n",
    "from torch.utils.data import TensorDataset\n",
    "from torch.utils.data import DataLoader\n",
    "\n",
    "train_y = train_x  # y = x since we are building an autoencoder\n",
    "test_y = test_x\n",
    "\n",
    "from fastai import learner\n",
    "from fastai.data import core\n",
    "\n",
    "# Constructs a tensor object of the data and wraps them in a TensorDataset object.\n",
    "train_ds = TensorDataset(torch.tensor(train_x.values, dtype=torch.float), torch.tensor(train_y.values, dtype=torch.float))\n",
    "valid_ds = TensorDataset(torch.tensor(test_x.values, dtype=torch.float), torch.tensor(test_y.values, dtype=torch.float))"
   ]
  },
  {
   "cell_type": "code",
   "execution_count": 13,
   "metadata": {},
   "outputs": [],
   "source": [
    "bs = 256\n",
    "\n",
    "# Converts the TensorDataset into a DataLoader object and combines into one DataLoaders object (a basic wrapper\n",
    "# around several DataLoader objects). \n",
    "train_dl = DataLoader(train_ds, batch_size=bs, shuffle=True)\n",
    "valid_dl = DataLoader(valid_ds, batch_size=bs * 2)\n",
    "dls = core.DataLoaders(train_dl, valid_dl)"
   ]
  },
  {
   "cell_type": "code",
   "execution_count": 14,
   "metadata": {},
   "outputs": [
    {
     "data": {
      "text/plain": [
       "AE_3D_200_LeakyReLU(\n",
       "  (en1): Linear(in_features=4, out_features=200, bias=True)\n",
       "  (en2): Linear(in_features=200, out_features=200, bias=True)\n",
       "  (en3): Linear(in_features=200, out_features=20, bias=True)\n",
       "  (en4): Linear(in_features=20, out_features=3, bias=True)\n",
       "  (de1): Linear(in_features=3, out_features=20, bias=True)\n",
       "  (de2): Linear(in_features=20, out_features=200, bias=True)\n",
       "  (de3): Linear(in_features=200, out_features=200, bias=True)\n",
       "  (de4): Linear(in_features=200, out_features=4, bias=True)\n",
       "  (tanh): Tanh()\n",
       ")"
      ]
     },
     "execution_count": 14,
     "metadata": {},
     "output_type": "execute_result"
    }
   ],
   "source": [
    "  class AE_3D_200_LeakyReLU(nn.Module):\n",
    "    def __init__(self, n_features=4):\n",
    "        super(AE_3D_200_LeakyReLU, self).__init__()\n",
    "        self.en1 = nn.Linear(n_features, 200)\n",
    "        self.en2 = nn.Linear(200, 200)\n",
    "        self.en3 = nn.Linear(200, 20)\n",
    "        self.en4 = nn.Linear(20, 3)\n",
    "        \n",
    "        self.de1 = nn.Linear(3, 20)\n",
    "        self.de2 = nn.Linear(20, 200)\n",
    "        self.de3 = nn.Linear(200, 200)\n",
    "        self.de4 = nn.Linear(200, n_features)\n",
    "        self.tanh = nn.Tanh()\n",
    "\n",
    "    def encode(self, x):\n",
    "        return self.en4(self.tanh(self.en3(self.tanh(self.en2(self.tanh(self.en1(x)))))))\n",
    "\n",
    "    def decode(self, x):\n",
    "        return self.de4(self.tanh(self.de3(self.tanh(self.de2(self.tanh(self.de1(self.tanh(x))))))))\n",
    "\n",
    "    def forward(self, x):\n",
    "        z = self.encode(x)\n",
    "        return self.decode(z)\n",
    "\n",
    "    def describe(self):\n",
    "        return 'in-200-200-20-3-20-200-200-out'\n",
    "\n",
    "#model = AE_3D_200_LeakyReLU().double()\n",
    "model = AE_3D_200_LeakyReLU()\n",
    "model.to('cpu')"
   ]
  },
  {
   "cell_type": "code",
   "execution_count": 15,
   "metadata": {},
   "outputs": [],
   "source": [
    "from fastai.metrics import mse\n",
    "\n",
    "loss_func = nn.MSELoss()\n",
    "\n",
    "wd = 1e-6\n",
    "\n",
    "recorder = learner.Recorder()\n",
    "learn = learner.Learner(dls, model=model, wd=wd, loss_func=loss_func, cbs=recorder)"
   ]
  },
  {
   "cell_type": "code",
   "execution_count": 16,
   "metadata": {},
   "outputs": [
    {
     "name": "stdout",
     "output_type": "stream",
     "text": [
      "Learning rate with the minimum loss: 0.002290867641568184\n",
      "Learning rate with the steepest gradient: 0.0008317637839354575\n"
     ]
    },
    {
     "data": {
      "image/png": "[encoded data removed]",
      "text/plain": [
       "<Figure size 432x288 with 1 Axes>"
      ]
     },
     "metadata": {
      "needs_background": "light"
     },
     "output_type": "display_data"
    }
   ],
   "source": [
    "from fastai.callback import schedule\n",
    "\n",
    "lr_min, lr_steep = learn.lr_find()\n",
    "\n",
    "print('Learning rate with the minimum loss:', lr_min)\n",
    "print('Learning rate with the steepest gradient:', lr_steep)"
   ]
  },
  {
   "cell_type": "code",
   "execution_count": 17,
   "metadata": {},
   "outputs": [
    {
     "name": "stdout",
     "output_type": "stream",
     "text": [
      "[0, 0.19005268812179565, 0.07424296438694, '00:00']\n",
      "[0, 0.19005268812179565, 0.07424296438694, '00:00']\n",
      "[1, 0.09502657502889633, 0.05848870426416397, '00:00']\n",
      "[1, 0.09502657502889633, 0.05848870426416397, '00:00']\n",
      "[2, 0.05768696218729019, 0.0332881435751915, '00:00']\n",
      "[2, 0.05768696218729019, 0.0332881435751915, '00:00']\n",
      "[3, 0.034723132848739624, 0.022866863757371902, '00:00']\n",
      "[3, 0.034723132848739624, 0.022866863757371902, '00:00']\n",
      "[4, 0.021404236555099487, 0.00762699730694294, '00:00']\n",
      "[4, 0.021404236555099487, 0.00762699730694294, '00:00']\n",
      "[5, 0.008893500082194805, 0.00293837976641953, '00:00']\n",
      "[5, 0.008893500082194805, 0.00293837976641953, '00:00']\n",
      "[6, 0.004195244982838631, 0.0017682495526969433, '00:00']\n",
      "[6, 0.004195244982838631, 0.0017682495526969433, '00:00']\n",
      "[7, 0.0019825573544949293, 0.0007324891048483551, '00:00']\n",
      "[7, 0.0019825573544949293, 0.0007324891048483551, '00:00']\n",
      "[8, 0.0009906446794047952, 0.00044189192703925073, '00:00']\n",
      "[8, 0.0009906446794047952, 0.00044189192703925073, '00:00']\n",
      "[9, 0.0005911710322834551, 0.00021607904636766762, '00:00']\n",
      "[9, 0.0005911710322834551, 0.00021607904636766762, '00:00']\n",
      "[10, 0.0005171813536435366, 0.00016993802273645997, '00:00']\n",
      "[10, 0.0005171813536435366, 0.00016993802273645997, '00:00']\n",
      "[11, 0.0006336921360343695, 0.00021430538618005812, '00:00']\n",
      "[11, 0.0006336921360343695, 0.00021430538618005812, '00:00']\n",
      "[12, 0.0006695715710520744, 0.00033947653719224036, '00:00']\n",
      "[12, 0.0006695715710520744, 0.00033947653719224036, '00:00']\n",
      "[13, 0.0009257601341232657, 0.0010314639657735825, '00:00']\n",
      "[13, 0.0009257601341232657, 0.0010314639657735825, '00:00']\n",
      "[14, 0.0009899698197841644, 0.0002118806733051315, '00:00']\n",
      "[14, 0.0009899698197841644, 0.0002118806733051315, '00:00']\n",
      "[15, 0.0018217662582173944, 0.0010336653795093298, '00:00']\n",
      "[15, 0.0018217662582173944, 0.0010336653795093298, '00:00']\n",
      "[16, 0.0007426557713188231, 0.00013503356603905559, '00:00']\n",
      "[16, 0.0007426557713188231, 0.00013503356603905559, '00:00']\n",
      "[17, 0.0010803237091749907, 0.00034828673233278096, '00:00']\n",
      "[17, 0.0010803237091749907, 0.00034828673233278096, '00:00']\n",
      "[18, 0.000887063448317349, 0.0005242296610958874, '00:00']\n",
      "[18, 0.000887063448317349, 0.0005242296610958874, '00:00']\n",
      "[19, 0.0010148010915145278, 0.0003723159898072481, '00:00']\n",
      "[19, 0.0010148010915145278, 0.0003723159898072481, '00:00']\n",
      "[20, 0.001304585370235145, 0.001062536146491766, '00:00']\n",
      "[20, 0.001304585370235145, 0.001062536146491766, '00:00']\n",
      "[21, 0.0012825496960431337, 0.0004247685137670487, '00:00']\n",
      "[21, 0.0012825496960431337, 0.0004247685137670487, '00:00']\n",
      "[22, 0.0010100699728354812, 0.00041713632526807487, '00:00']\n",
      "[22, 0.0010100699728354812, 0.00041713632526807487, '00:00']\n",
      "[23, 0.0009455563849769533, 0.00018486991757526994, '00:00']\n",
      "[23, 0.0009455563849769533, 0.00018486991757526994, '00:00']\n",
      "[24, 0.0009255612385459244, 0.0009363565477542579, '00:00']\n",
      "[24, 0.0009255612385459244, 0.0009363565477542579, '00:00']\n",
      "[25, 0.0007833803538233042, 0.00026056537171825767, '00:00']\n",
      "[25, 0.0007833803538233042, 0.00026056537171825767, '00:00']\n",
      "[26, 0.0008532389183528721, 0.0006911493255756795, '00:00']\n",
      "[26, 0.0008532389183528721, 0.0006911493255756795, '00:00']\n",
      "[27, 0.000915038341190666, 0.0005521365674212575, '00:00']\n",
      "[27, 0.000915038341190666, 0.0005521365674212575, '00:00']\n",
      "[28, 0.000534043472725898, 0.0003495778073556721, '00:00']\n",
      "[28, 0.000534043472725898, 0.0003495778073556721, '00:00']\n",
      "[29, 0.0005132492515258491, 0.0002902568958234042, '00:00']\n",
      "[29, 0.0005132492515258491, 0.0002902568958234042, '00:00']\n",
      "[30, 0.0007801370811648667, 0.0015254922909662127, '00:00']\n",
      "[30, 0.0007801370811648667, 0.0015254922909662127, '00:00']\n",
      "[31, 0.0006387450848706067, 0.0012325968127697706, '00:00']\n",
      "[31, 0.0006387450848706067, 0.0012325968127697706, '00:00']\n",
      "[32, 0.000822163769043982, 0.0007444681832566857, '00:00']\n",
      "[32, 0.000822163769043982, 0.0007444681832566857, '00:00']\n",
      "[33, 0.00041907280683517456, 0.00013240955013316125, '00:00']\n",
      "[33, 0.00041907280683517456, 0.00013240955013316125, '00:00']\n",
      "[34, 0.0005850599845871329, 0.001311390078626573, '00:00']\n",
      "[34, 0.0005850599845871329, 0.001311390078626573, '00:00']\n",
      "[35, 0.0004488089180085808, 0.0001525308907730505, '00:00']\n",
      "[35, 0.0004488089180085808, 0.0001525308907730505, '00:00']\n",
      "[36, 0.0004040946369059384, 0.0001761645107762888, '00:00']\n",
      "[36, 0.0004040946369059384, 0.0001761645107762888, '00:00']\n",
      "[37, 0.0004143149417359382, 0.00012882288137916476, '00:00']\n",
      "[37, 0.0004143149417359382, 0.00012882288137916476, '00:00']\n",
      "[38, 0.00029259666916914284, 9.663028322393075e-05, '00:00']\n",
      "[38, 0.00029259666916914284, 9.663028322393075e-05, '00:00']\n",
      "[39, 0.00027370915631763637, 8.451366011286154e-05, '00:00']\n",
      "[39, 0.00027370915631763637, 8.451366011286154e-05, '00:00']\n",
      "[40, 0.00029960114625282586, 9.704056719783694e-05, '00:00']\n",
      "[40, 0.00029960114625282586, 9.704056719783694e-05, '00:00']\n",
      "[41, 0.00028073889552615583, 3.577695315470919e-05, '00:00']\n",
      "[41, 0.00028073889552615583, 3.577695315470919e-05, '00:00']\n",
      "[42, 0.00024999171728268266, 0.00024440037668682635, '00:00']\n",
      "[42, 0.00024999171728268266, 0.00024440037668682635, '00:00']\n",
      "[43, 0.00023178676201496273, 9.094517008634284e-05, '00:00']\n",
      "[43, 0.00023178676201496273, 9.094517008634284e-05, '00:00']\n",
      "[44, 0.000245629926212132, 5.3469237172976136e-05, '00:00']\n",
      "[44, 0.000245629926212132, 5.3469237172976136e-05, '00:00']\n",
      "[45, 0.0002103182050632313, 0.0001415803999407217, '00:00']\n",
      "[45, 0.0002103182050632313, 0.0001415803999407217, '00:00']\n",
      "[46, 0.00025682890554890037, 0.00010017687600338832, '00:00']\n",
      "[46, 0.00025682890554890037, 0.00010017687600338832, '00:00']\n",
      "[47, 0.00021905986068304628, 7.079079659888521e-05, '00:00']\n",
      "[47, 0.00021905986068304628, 7.079079659888521e-05, '00:00']\n",
      "[48, 0.00015749993326608092, 4.282030931790359e-05, '00:00']\n",
      "[48, 0.00015749993326608092, 4.282030931790359e-05, '00:00']\n",
      "[49, 0.00016231718473136425, 2.7316322302795015e-05, '00:00']\n",
      "[49, 0.00016231718473136425, 2.7316322302795015e-05, '00:00']\n",
      "[50, 0.00015613887808285654, 8.233568223658949e-05, '00:00']\n",
      "[50, 0.00015613887808285654, 8.233568223658949e-05, '00:00']\n",
      "[51, 0.00016429685638286173, 0.0006509734084829688, '00:00']\n",
      "[51, 0.00016429685638286173, 0.0006509734084829688, '00:00']\n",
      "[52, 0.0001255086244782433, 5.789802162325941e-05, '00:00']\n",
      "[52, 0.0001255086244782433, 5.789802162325941e-05, '00:00']\n",
      "[53, 0.00012922963651362807, 2.6656334739527665e-05, '00:00']\n",
      "[53, 0.00012922963651362807, 2.6656334739527665e-05, '00:00']\n",
      "[54, 0.00011992694635409862, 4.359434387879446e-05, '00:00']\n",
      "[54, 0.00011992694635409862, 4.359434387879446e-05, '00:00']\n",
      "[55, 0.00011026509309886023, 0.00013287512410897762, '00:00']\n",
      "[55, 0.00011026509309886023, 0.00013287512410897762, '00:00']\n",
      "[56, 7.870478293625638e-05, 2.3926872017909773e-05, '00:00']\n",
      "[56, 7.870478293625638e-05, 2.3926872017909773e-05, '00:00']\n",
      "[57, 8.7593165517319e-05, 1.9020064428332262e-05, '00:00']\n",
      "[57, 8.7593165517319e-05, 1.9020064428332262e-05, '00:00']\n",
      "[58, 8.082173735601828e-05, 4.3092077248729765e-05, '00:00']\n",
      "[58, 8.082173735601828e-05, 4.3092077248729765e-05, '00:00']\n",
      "[59, 5.3131832828512415e-05, 6.1323560657911e-05, '00:00']\n",
      "[59, 5.3131832828512415e-05, 6.1323560657911e-05, '00:00']\n",
      "[60, 5.740730921388604e-05, 1.5414365407195874e-05, '00:00']\n",
      "[60, 5.740730921388604e-05, 1.5414365407195874e-05, '00:00']\n",
      "[61, 4.021653876407072e-05, 3.074525375268422e-05, '00:00']\n",
      "[61, 4.021653876407072e-05, 3.074525375268422e-05, '00:00']\n",
      "[62, 4.2315568862250075e-05, 5.6791304814396426e-05, '00:00']\n",
      "[62, 4.2315568862250075e-05, 5.6791304814396426e-05, '00:00']\n",
      "[63, 3.209797796444036e-05, 2.761618816293776e-05, '00:00']\n",
      "[63, 3.209797796444036e-05, 2.761618816293776e-05, '00:00']\n",
      "[64, 3.795096563408151e-05, 2.1550938981818035e-05, '00:00']\n",
      "[64, 3.795096563408151e-05, 2.1550938981818035e-05, '00:00']\n",
      "[65, 3.4072294511133805e-05, 8.415064075961709e-05, '00:00']\n",
      "[65, 3.4072294511133805e-05, 8.415064075961709e-05, '00:00']\n",
      "[66, 2.468593265803065e-05, 2.303590372321196e-05, '00:00']\n",
      "[66, 2.468593265803065e-05, 2.303590372321196e-05, '00:00']\n",
      "[67, 2.0549756300169975e-05, 4.4775264541385695e-05, '00:00']\n",
      "[67, 2.0549756300169975e-05, 4.4775264541385695e-05, '00:00']\n",
      "[68, 2.098518052662257e-05, 5.318275361787528e-05, '00:00']\n",
      "[68, 2.098518052662257e-05, 5.318275361787528e-05, '00:00']\n"
     ]
    },
    {
     "name": "stdout",
     "output_type": "stream",
     "text": [
      "[69, 1.965788032975979e-05, 8.554645319236442e-06, '00:00']\n",
      "[69, 1.965788032975979e-05, 8.554645319236442e-06, '00:00']\n",
      "[70, 1.2350111319392454e-05, 8.230128514696844e-06, '00:00']\n",
      "[70, 1.2350111319392454e-05, 8.230128514696844e-06, '00:00']\n",
      "[71, 1.0983449101331644e-05, 6.644386303378269e-06, '00:00']\n",
      "[71, 1.0983449101331644e-05, 6.644386303378269e-06, '00:00']\n",
      "[72, 1.3056582247372717e-05, 2.1793875930598006e-05, '00:00']\n",
      "[72, 1.3056582247372717e-05, 2.1793875930598006e-05, '00:00']\n",
      "[73, 9.538065569358878e-06, 8.779697054706048e-06, '00:00']\n",
      "[73, 9.538065569358878e-06, 8.779697054706048e-06, '00:00']\n",
      "[74, 7.889418156992178e-06, 4.734970389108639e-06, '00:00']\n",
      "[74, 7.889418156992178e-06, 4.734970389108639e-06, '00:00']\n",
      "[75, 7.518821348639904e-06, 7.295807790796971e-06, '00:00']\n",
      "[75, 7.518821348639904e-06, 7.295807790796971e-06, '00:00']\n",
      "[76, 6.232051418919582e-06, 5.945578777755145e-06, '00:00']\n",
      "[76, 6.232051418919582e-06, 5.945578777755145e-06, '00:00']\n",
      "[77, 6.127095275587635e-06, 8.582826922065578e-06, '00:00']\n",
      "[77, 6.127095275587635e-06, 8.582826922065578e-06, '00:00']\n",
      "[78, 4.9595114433031995e-06, 3.310182137283846e-06, '00:00']\n",
      "[78, 4.9595114433031995e-06, 3.310182137283846e-06, '00:00']\n",
      "[79, 3.969545559812104e-06, 3.502188747006585e-06, '00:00']\n",
      "[79, 3.969545559812104e-06, 3.502188747006585e-06, '00:00']\n",
      "[80, 3.8677740121784154e-06, 4.260535661160247e-06, '00:00']\n",
      "[80, 3.8677740121784154e-06, 4.260535661160247e-06, '00:00']\n",
      "[81, 3.3467372304585297e-06, 2.942312903542188e-06, '00:00']\n",
      "[81, 3.3467372304585297e-06, 2.942312903542188e-06, '00:00']\n",
      "[82, 3.3391288525308482e-06, 3.5599357488536043e-06, '00:00']\n",
      "[82, 3.3391288525308482e-06, 3.5599357488536043e-06, '00:00']\n",
      "[83, 3.2155949156731367e-06, 3.501118726489949e-06, '00:00']\n",
      "[83, 3.2155949156731367e-06, 3.501118726489949e-06, '00:00']\n",
      "[84, 2.972959919134155e-06, 2.344309450563742e-06, '00:00']\n",
      "[84, 2.972959919134155e-06, 2.344309450563742e-06, '00:00']\n",
      "[85, 3.0071514629526064e-06, 2.4507578473276226e-06, '00:00']\n",
      "[85, 3.0071514629526064e-06, 2.4507578473276226e-06, '00:00']\n",
      "[86, 2.641956598381512e-06, 2.1731671040470246e-06, '00:00']\n",
      "[86, 2.641956598381512e-06, 2.1731671040470246e-06, '00:00']\n",
      "[87, 2.368831019339268e-06, 1.987123823710135e-06, '00:00']\n",
      "[87, 2.368831019339268e-06, 1.987123823710135e-06, '00:00']\n",
      "[88, 2.2387380340660457e-06, 2.1478854250744916e-06, '00:00']\n",
      "[88, 2.2387380340660457e-06, 2.1478854250744916e-06, '00:00']\n",
      "[89, 2.1775715595140355e-06, 2.0433574263734045e-06, '00:00']\n",
      "[89, 2.1775715595140355e-06, 2.0433574263734045e-06, '00:00']\n",
      "[90, 2.078003944916418e-06, 1.897575657494599e-06, '00:00']\n",
      "[90, 2.078003944916418e-06, 1.897575657494599e-06, '00:00']\n",
      "[91, 2.026743914029794e-06, 1.8472710507921875e-06, '00:00']\n",
      "[91, 2.026743914029794e-06, 1.8472710507921875e-06, '00:00']\n",
      "[92, 1.9639260244730394e-06, 1.7843875639300677e-06, '00:00']\n",
      "[92, 1.9639260244730394e-06, 1.7843875639300677e-06, '00:00']\n",
      "[93, 1.8901436078522238e-06, 1.8013304270425579e-06, '00:00']\n",
      "[93, 1.8901436078522238e-06, 1.8013304270425579e-06, '00:00']\n",
      "[94, 1.9075926047662506e-06, 1.7827437659434509e-06, '00:00']\n",
      "[94, 1.9075926047662506e-06, 1.7827437659434509e-06, '00:00']\n",
      "[95, 1.8435273432260146e-06, 1.7582548252903507e-06, '00:00']\n",
      "[95, 1.8435273432260146e-06, 1.7582548252903507e-06, '00:00']\n",
      "[96, 1.808268734748708e-06, 1.7460688468418084e-06, '00:00']\n",
      "[96, 1.808268734748708e-06, 1.7460688468418084e-06, '00:00']\n",
      "[97, 1.7737017969920998e-06, 1.7310460407315986e-06, '00:00']\n",
      "[97, 1.7737017969920998e-06, 1.7310460407315986e-06, '00:00']\n",
      "[98, 1.7870356714411173e-06, 1.7312141835645889e-06, '00:00']\n",
      "[98, 1.7870356714411173e-06, 1.7312141835645889e-06, '00:00']\n",
      "[99, 1.7745970808391576e-06, 1.7246748029720038e-06, '00:00']\n",
      "[99, 1.7745970808391576e-06, 1.7246748029720038e-06, '00:00']\n",
      "Training took 59.16339503800009 seconds\n"
     ]
    }
   ],
   "source": [
    "import time\n",
    "\n",
    "start = time.perf_counter() # Starts timer\n",
    "learn.fit_one_cycle(100, lr_min)\n",
    "end = time.perf_counter() # Ends timer\n",
    "delta_t = end - start\n",
    "print('Training took', delta_t, 'seconds')"
   ]
  },
  {
   "cell_type": "code",
   "execution_count": 18,
   "metadata": {},
   "outputs": [
    {
     "data": {
      "image/png": "[encoded data removed]",
      "text/plain": [
       "<Figure size 432x288 with 1 Axes>"
      ]
     },
     "metadata": {
      "needs_background": "light"
     },
     "output_type": "display_data"
    }
   ],
   "source": [
    "recorder.plot_loss()"
   ]
  },
  {
   "cell_type": "code",
   "execution_count": 19,
   "metadata": {},
   "outputs": [
    {
     "data": {
      "text/plain": [
       "(#1) [1.7246748029720038e-06]"
      ]
     },
     "execution_count": 19,
     "metadata": {},
     "output_type": "execute_result"
    }
   ],
   "source": [
    "learn.validate()"
   ]
  },
  {
   "cell_type": "code",
   "execution_count": 20,
   "metadata": {},
   "outputs": [
    {
     "data": {
      "image/png": "[encoded data removed]",
      "text/plain": [
       "<Figure size 720x540 with 1 Axes>"
      ]
     },
     "metadata": {
      "needs_background": "light"
     },
     "output_type": "display_data"
    },
    {
     "data": {
      "image/png": "[encoded data removed]",
      "text/plain": [
       "<Figure size 720x540 with 1 Axes>"
      ]
     },
     "metadata": {
      "needs_background": "light"
     },
     "output_type": "display_data"
    },
    {
     "data": {
      "image/png": "[encoded data removed]",
      "text/plain": [
       "<Figure size 720x540 with 1 Axes>"
      ]
     },
     "metadata": {
      "needs_background": "light"
     },
     "output_type": "display_data"
    },
    {
     "data": {
      "image/png": "[encoded data removed]",
      "text/plain": [
       "<Figure size 720x540 with 1 Axes>"
      ]
     },
     "metadata": {
      "needs_background": "light"
     },
     "output_type": "display_data"
    }
   ],
   "source": [
    "import numpy as np\n",
    "\n",
    "plt.close('all')\n",
    "variable_list = [r'$E$', r'$p_{T,in}$', r'$\\eta$', r'$\\phi$']\n",
    "\n",
    "line_style = ['--', '-']\n",
    "colors = ['orange', 'c']\n",
    "markers = ['*', 's']\n",
    "\n",
    "model.to('cpu')\n",
    "\n",
    "# Histograms\n",
    "idxs = (0, 100000)  # Choose events to compare\n",
    "data = torch.tensor(test_x[idxs[0]:idxs[1]].values, dtype=torch.float)\n",
    "#data = torch.tensor(test[idxs[0]:idxs[1]].values, dtype=torch.float).double()\n",
    "pred = model(data)\n",
    "pred = pred.detach().numpy()\n",
    "data = data.detach().numpy()\n",
    "\n",
    "data_df = pd.DataFrame(data, columns=test.columns)\n",
    "pred_df = pd.DataFrame(pred, columns=test.columns)\n",
    "\n",
    "if (scaling_method == 1):\n",
    "    unnormalized_data_df = denormalise_data(data_df, min_max_scaler_e, min_max_scaler_pt, standard_scaler_eta, min_max_scaler_phi)\n",
    "    unnormalized_pred_df = denormalise_data(pred_df, min_max_scaler_e, min_max_scaler_pt, standard_scaler_eta, min_max_scaler_phi)\n",
    "else:\n",
    "    unnormalized_data_df = pd.DataFrame(scaler.inverse_transform(data), columns=data_df.columns)\n",
    "    unnormalized_pred_df = pd.DataFrame(scaler.inverse_transform(pred), columns=pred_df.columns)\n",
    "    \n",
    "unnormalized_data = unnormalized_data_df.to_numpy()\n",
    "unnormalized_pred = unnormalized_pred_df.to_numpy()\n",
    "    \n",
    "alph = 0.8\n",
    "n_bins = 200\n",
    "for kk in np.arange(4):\n",
    "    plt.figure(figsize=(10,7.5))\n",
    "    plt.ticklabel_format(axis=\"both\", style=\"sci\")\n",
    "    n_hist_data, bin_edges, _ = plt.hist(unnormalized_data[:, kk], color=colors[1], label='Input', alpha=1, bins=n_bins)\n",
    "    n_hist_pred, _, _ = plt.hist(unnormalized_pred[:, kk], color=colors[0], label='Output', alpha=alph, bins=bin_edges)\n",
    "    plt.suptitle(test.columns[kk])\n",
    "    plt.xlabel(xlabel=variable_list[kk])\n",
    "    plt.ylabel('Number of events')\n",
    "    plt.yscale('log')\n",
    "    plt.legend()\n",
    "    if save:\n",
    "        plt.savefig(os.path.join(save_dir,'compression_' + test.columns[kk] + '_' + str(scaling_method) +'.png'))"
   ]
  },
  {
   "cell_type": "code",
   "execution_count": 21,
   "metadata": {},
   "outputs": [
    {
     "data": {
      "image/png": "[encoded data removed]",
      "text/plain": [
       "<Figure size 720x540 with 1 Axes>"
      ]
     },
     "metadata": {
      "needs_background": "light"
     },
     "output_type": "display_data"
    },
    {
     "data": {
      "image/png": "[encoded data removed]",
      "text/plain": [
       "<Figure size 720x540 with 1 Axes>"
      ]
     },
     "metadata": {
      "needs_background": "light"
     },
     "output_type": "display_data"
    },
    {
     "data": {
      "image/png": "[encoded data removed]",
      "text/plain": [
       "<Figure size 720x540 with 1 Axes>"
      ]
     },
     "metadata": {
      "needs_background": "light"
     },
     "output_type": "display_data"
    },
    {
     "data": {
      "image/png": "[encoded data removed]",
      "text/plain": [
       "<Figure size 720x540 with 1 Axes>"
      ]
     },
     "metadata": {
      "needs_background": "light"
     },
     "output_type": "display_data"
    }
   ],
   "source": [
    "residual_df = (data_df - pred_df) / data_df\n",
    "residual_data = residual_df.to_numpy()\n",
    "\n",
    "variable_list = [r'$(E_{in} - E_{out})/E_{in}$', r'$(p_{T, in} - p_{T, out})/p_{T, in}$', \n",
    "                 r'$(\\eta_{in} - \\eta_{out})/\\eta_{in}$', r'$(\\phi_{in} - \\phi_{out})/\\phi_{in}$']\n",
    "title_list = [r'$E$', r'$p_T$', r'$\\eta$', r'$\\phi$']\n",
    "\n",
    "n_bins = 200\n",
    "for kk in np.arange(4):\n",
    "    inset_text_str = ', '.join((\n",
    "        'mean=%.2f' % (np.mean(residual_data[:, kk]), ),\n",
    "        'std=%.2f' % (np.std(residual_data[:, kk]), )))\n",
    "    props = dict(boxstyle='round', facecolor='wheat', alpha=0.5)\n",
    "\n",
    "    \n",
    "    fig, ax = plt.subplots(figsize=(10, 7.5))\n",
    "    plt.text(0.525, 1.125, inset_text_str, transform=ax.transAxes, fontsize=14,\n",
    "        verticalalignment='top', bbox=props)\n",
    "    n_hist_data, bin_edges, _ = plt.hist(residual_data[:, kk], color=colors[1], bins=n_bins)\n",
    "    plt.suptitle('Residual plot for ' + title_list[kk], horizontalalignment='right')\n",
    "    plt.xlabel(xlabel=variable_list[kk])\n",
    "    plt.ylabel('Number of events')\n",
    "    plt.yscale('log')\n",
    "    if save:\n",
    "        plt.savefig(os.path.join(save_dir,'residual_' + residual_df.columns[kk] + '_' + str(scaling_method) + '.png'))"
   ]
  },
  {
   "cell_type": "code",
   "execution_count": null,
   "metadata": {},
   "outputs": [],
   "source": []
  }
 ],
 "metadata": {
  "kernelspec": {
   "display_name": "Python 3",
   "language": "python",
   "name": "python3"
  },
  "language_info": {
   "codemirror_mode": {
    "name": "ipython",
    "version": 3
   },
   "file_extension": ".py",
   "mimetype": "text/x-python",
   "name": "python",
   "nbconvert_exporter": "python",
   "pygments_lexer": "ipython3",
   "version": "3.8.5"
  }
 },
 "nbformat": 4,
 "nbformat_minor": 2
}
