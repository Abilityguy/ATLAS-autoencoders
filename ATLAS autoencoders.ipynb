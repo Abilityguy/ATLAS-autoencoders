{
 "cells": [
  {
   "cell_type": "code",
   "execution_count": 1,
   "metadata": {},
   "outputs": [],
   "source": [
    "import pandas as pd\n",
    "import numpy as np"
   ]
  },
  {
   "cell_type": "markdown",
   "metadata": {},
   "source": [
    "# Reading the dataset\n",
    "\n",
    "Manual inspections of monojet_Zp2000.0_DM_50.0_chan3.csv indicates a row can have at max 65 columns.\n",
    "This means an event can contain an event in monojet_Zp2000.0_DM_50.0_chan3.csv can contain at max 10 objects.\n",
    "To accomodate for the additional ';' delimiter at the end of line, we consider an additional column."
   ]
  },
  {
   "cell_type": "code",
   "execution_count": 2,
   "metadata": {},
   "outputs": [],
   "source": [
    "max_columns = 65\n",
    "column_names = ['event ID', 'process ID', 'event weight', 'MET', 'METphi']\n",
    "n_obj = int((max_columns - 5) / 5) \n",
    "for i in range(1, n_obj + 1): #Subtracting 5 because first few columns are meta-data.\n",
    "    column_names.extend([f'obj{i}', f'E{i}', f'pt{i}', f'eta{i}', f'phi{i}'])\n",
    "    \n",
    "column_names.append('sentinel')"
   ]
  },
  {
   "cell_type": "code",
   "execution_count": 3,
   "metadata": {},
   "outputs": [],
   "source": [
    "df = pd.read_csv('monojet_Zp2000.0_DM_50.0_chan3.csv', header=None, sep=',|;', \n",
    "                 names=column_names, engine='python')"
   ]
  },
  {
   "cell_type": "code",
   "execution_count": 4,
   "metadata": {},
   "outputs": [
    {
     "data": {
      "text/html": [
       "<div>\n",
       "<style scoped>\n",
       "    .dataframe tbody tr th:only-of-type {\n",
       "        vertical-align: middle;\n",
       "    }\n",
       "\n",
       "    .dataframe tbody tr th {\n",
       "        vertical-align: top;\n",
       "    }\n",
       "\n",
       "    .dataframe thead th {\n",
       "        text-align: right;\n",
       "    }\n",
       "</style>\n",
       "<table border=\"1\" class=\"dataframe\">\n",
       "  <thead>\n",
       "    <tr style=\"text-align: right;\">\n",
       "      <th></th>\n",
       "      <th>event ID</th>\n",
       "      <th>process ID</th>\n",
       "      <th>event weight</th>\n",
       "      <th>MET</th>\n",
       "      <th>METphi</th>\n",
       "      <th>obj1</th>\n",
       "      <th>E1</th>\n",
       "      <th>pt1</th>\n",
       "      <th>eta1</th>\n",
       "      <th>phi1</th>\n",
       "      <th>...</th>\n",
       "      <th>obj11</th>\n",
       "      <th>E11</th>\n",
       "      <th>pt11</th>\n",
       "      <th>eta11</th>\n",
       "      <th>phi11</th>\n",
       "      <th>obj12</th>\n",
       "      <th>E12</th>\n",
       "      <th>pt12</th>\n",
       "      <th>eta12</th>\n",
       "      <th>phi12</th>\n",
       "    </tr>\n",
       "  </thead>\n",
       "  <tbody>\n",
       "    <tr>\n",
       "      <th>0</th>\n",
       "      <td>354</td>\n",
       "      <td>monojet_Zp2000.0_DM_50.0</td>\n",
       "      <td>0.000024</td>\n",
       "      <td>832841.0</td>\n",
       "      <td>-1.22431</td>\n",
       "      <td>b</td>\n",
       "      <td>947383.0</td>\n",
       "      <td>824498.0</td>\n",
       "      <td>-0.523103</td>\n",
       "      <td>1.644210</td>\n",
       "      <td>...</td>\n",
       "      <td>None</td>\n",
       "      <td>NaN</td>\n",
       "      <td>NaN</td>\n",
       "      <td>NaN</td>\n",
       "      <td>NaN</td>\n",
       "      <td>None</td>\n",
       "      <td>NaN</td>\n",
       "      <td>NaN</td>\n",
       "      <td>NaN</td>\n",
       "      <td>NaN</td>\n",
       "    </tr>\n",
       "    <tr>\n",
       "      <th>1</th>\n",
       "      <td>354</td>\n",
       "      <td>monojet_Zp2000.0_DM_50.0</td>\n",
       "      <td>0.000024</td>\n",
       "      <td>732115.0</td>\n",
       "      <td>1.17245</td>\n",
       "      <td>j</td>\n",
       "      <td>1069460.0</td>\n",
       "      <td>751597.0</td>\n",
       "      <td>0.858186</td>\n",
       "      <td>-1.842170</td>\n",
       "      <td>...</td>\n",
       "      <td>None</td>\n",
       "      <td>NaN</td>\n",
       "      <td>NaN</td>\n",
       "      <td>NaN</td>\n",
       "      <td>NaN</td>\n",
       "      <td>None</td>\n",
       "      <td>NaN</td>\n",
       "      <td>NaN</td>\n",
       "      <td>NaN</td>\n",
       "      <td>NaN</td>\n",
       "    </tr>\n",
       "    <tr>\n",
       "      <th>2</th>\n",
       "      <td>354</td>\n",
       "      <td>monojet_Zp2000.0_DM_50.0</td>\n",
       "      <td>0.000024</td>\n",
       "      <td>1056280.0</td>\n",
       "      <td>-3.06744</td>\n",
       "      <td>j</td>\n",
       "      <td>676000.0</td>\n",
       "      <td>640429.0</td>\n",
       "      <td>0.330450</td>\n",
       "      <td>0.704554</td>\n",
       "      <td>...</td>\n",
       "      <td>None</td>\n",
       "      <td>NaN</td>\n",
       "      <td>NaN</td>\n",
       "      <td>NaN</td>\n",
       "      <td>NaN</td>\n",
       "      <td>None</td>\n",
       "      <td>NaN</td>\n",
       "      <td>NaN</td>\n",
       "      <td>NaN</td>\n",
       "      <td>NaN</td>\n",
       "    </tr>\n",
       "    <tr>\n",
       "      <th>3</th>\n",
       "      <td>354</td>\n",
       "      <td>monojet_Zp2000.0_DM_50.0</td>\n",
       "      <td>0.000024</td>\n",
       "      <td>631781.0</td>\n",
       "      <td>1.64181</td>\n",
       "      <td>j</td>\n",
       "      <td>936707.0</td>\n",
       "      <td>616229.0</td>\n",
       "      <td>0.973383</td>\n",
       "      <td>-1.565920</td>\n",
       "      <td>...</td>\n",
       "      <td>None</td>\n",
       "      <td>NaN</td>\n",
       "      <td>NaN</td>\n",
       "      <td>NaN</td>\n",
       "      <td>NaN</td>\n",
       "      <td>None</td>\n",
       "      <td>NaN</td>\n",
       "      <td>NaN</td>\n",
       "      <td>NaN</td>\n",
       "      <td>NaN</td>\n",
       "    </tr>\n",
       "    <tr>\n",
       "      <th>4</th>\n",
       "      <td>354</td>\n",
       "      <td>monojet_Zp2000.0_DM_50.0</td>\n",
       "      <td>0.000024</td>\n",
       "      <td>457316.0</td>\n",
       "      <td>-1.87536</td>\n",
       "      <td>j</td>\n",
       "      <td>640313.0</td>\n",
       "      <td>589524.0</td>\n",
       "      <td>0.390749</td>\n",
       "      <td>1.237340</td>\n",
       "      <td>...</td>\n",
       "      <td>None</td>\n",
       "      <td>NaN</td>\n",
       "      <td>NaN</td>\n",
       "      <td>NaN</td>\n",
       "      <td>NaN</td>\n",
       "      <td>None</td>\n",
       "      <td>NaN</td>\n",
       "      <td>NaN</td>\n",
       "      <td>NaN</td>\n",
       "      <td>NaN</td>\n",
       "    </tr>\n",
       "  </tbody>\n",
       "</table>\n",
       "<p>5 rows × 65 columns</p>\n",
       "</div>"
      ],
      "text/plain": [
       "   event ID                process ID  event weight        MET   METphi obj1  \\\n",
       "0       354  monojet_Zp2000.0_DM_50.0      0.000024   832841.0 -1.22431    b   \n",
       "1       354  monojet_Zp2000.0_DM_50.0      0.000024   732115.0  1.17245    j   \n",
       "2       354  monojet_Zp2000.0_DM_50.0      0.000024  1056280.0 -3.06744    j   \n",
       "3       354  monojet_Zp2000.0_DM_50.0      0.000024   631781.0  1.64181    j   \n",
       "4       354  monojet_Zp2000.0_DM_50.0      0.000024   457316.0 -1.87536    j   \n",
       "\n",
       "          E1       pt1      eta1      phi1  ... obj11  E11  pt11  eta11  \\\n",
       "0   947383.0  824498.0 -0.523103  1.644210  ...  None  NaN   NaN    NaN   \n",
       "1  1069460.0  751597.0  0.858186 -1.842170  ...  None  NaN   NaN    NaN   \n",
       "2   676000.0  640429.0  0.330450  0.704554  ...  None  NaN   NaN    NaN   \n",
       "3   936707.0  616229.0  0.973383 -1.565920  ...  None  NaN   NaN    NaN   \n",
       "4   640313.0  589524.0  0.390749  1.237340  ...  None  NaN   NaN    NaN   \n",
       "\n",
       "   phi11 obj12  E12  pt12  eta12  phi12  \n",
       "0    NaN  None  NaN   NaN    NaN    NaN  \n",
       "1    NaN  None  NaN   NaN    NaN    NaN  \n",
       "2    NaN  None  NaN   NaN    NaN    NaN  \n",
       "3    NaN  None  NaN   NaN    NaN    NaN  \n",
       "4    NaN  None  NaN   NaN    NaN    NaN  \n",
       "\n",
       "[5 rows x 65 columns]"
      ]
     },
     "execution_count": 4,
     "metadata": {},
     "output_type": "execute_result"
    }
   ],
   "source": [
    "df.drop('sentinel', axis=1, inplace=True)\n",
    "df.head()"
   ]
  },
  {
   "cell_type": "code",
   "execution_count": 5,
   "metadata": {},
   "outputs": [
    {
     "name": "stdout",
     "output_type": "stream",
     "text": [
      "The number of entries in the training data: 22661\n",
      "          E        pt       eta      phi\n",
      "0  258722.0  243675.0  0.328962  2.25014\n",
      "1  520092.0  108590.0 -2.247300 -1.85679\n",
      "2  383024.0   88405.6  2.145160 -1.95635\n",
      "3   39507.6   35365.1  0.470460 -1.16445\n",
      "4  225430.0   26878.2 -2.816080 -2.25938\n"
     ]
    }
   ],
   "source": [
    "# filter the dataframe to keep only jet particles and their values of E, pt, eta and phi\n",
    "filtered_particles = list()\n",
    "\n",
    "for _, row in df.iterrows():\n",
    "    for i in range(1, n_obj + 1): #iterate over different objects in an event.\n",
    "        if(row[f'obj{i}'] == 'j'):\n",
    "            e = row[f'E{i}']\n",
    "            pt = row[f'pt{i}']\n",
    "            eta = row[f'eta{i}']\n",
    "            phi = row[f'phi{i}']\n",
    "            \n",
    "            filtered_particles.append([e, pt, eta, phi])\n",
    "            \n",
    "data = pd.DataFrame(filtered_particles, columns=['E', 'pt', 'eta', 'phi'])\n",
    "print(f'The number of entries in the training data: {len(data)}')\n",
    "print(data.head())"
   ]
  },
  {
   "cell_type": "markdown",
   "metadata": {},
   "source": [
    "# Splitting data into train and test"
   ]
  },
  {
   "cell_type": "code",
   "execution_count": 6,
   "metadata": {},
   "outputs": [
    {
     "name": "stdout",
     "output_type": "stream",
     "text": [
      "Training sample:\n",
      "              E        pt      eta       phi\n",
      "15143  235076.0   25662.7  2.90480  2.617090\n",
      "22423  465836.0   23937.2 -3.66078 -3.116470\n",
      "20300   90651.8   43351.6 -1.36049  1.688120\n",
      "11831  212221.0   30923.7 -2.61316  1.056860\n",
      "20776  366621.0  356013.0 -0.23484  0.939062\n",
      "\n",
      "\n",
      "Testing sample:\n",
      "              E        pt       eta       phi\n",
      "10129  210473.0  132322.0  1.034460  1.492890\n",
      "6374    90280.7   51583.3  1.153490  0.583315\n",
      "21123  215060.0  162558.0 -0.754307 -0.872281\n",
      "9179   738145.0  456570.0 -1.050910 -0.928472\n",
      "16467  935707.0  202979.0  2.209050 -1.485090\n",
      "\n",
      "\n",
      "The number of entries in the training data: 15862\n",
      "The number of entries in the validation data: 6799\n"
     ]
    }
   ],
   "source": [
    "#Splitting the data into train and test splits\n",
    "from sklearn.model_selection import train_test_split\n",
    "\n",
    "train, test = train_test_split(data, test_size=0.3)\n",
    "\n",
    "print('Training sample:')\n",
    "print(train.head())\n",
    "\n",
    "print('\\n')\n",
    "\n",
    "print('Testing sample:')\n",
    "print(test.head())\n",
    "\n",
    "print('\\n')\n",
    "\n",
    "print(f'The number of entries in the training data: {len(train)}')\n",
    "print(f'The number of entries in the validation data: {len(test)}')"
   ]
  },
  {
   "cell_type": "code",
   "execution_count": 7,
   "metadata": {},
   "outputs": [],
   "source": [
    "import os\n",
    "save_dir = \"plotOutput\"\n",
    "if not os.path.exists(save_dir):\n",
    "    os.makedirs(save_dir)\n",
    "    \n",
    "save = True # Option to save figure"
   ]
  },
  {
   "cell_type": "markdown",
   "metadata": {},
   "source": [
    "# Visualizing the data"
   ]
  },
  {
   "cell_type": "code",
   "execution_count": 8,
   "metadata": {},
   "outputs": [
    {
     "data": {
      "image/png": "[encoded data removed]",
      "text/plain": [
       "<Figure size 720x540 with 1 Axes>"
      ]
     },
     "metadata": {
      "needs_background": "light"
     },
     "output_type": "display_data"
    },
    {
     "data": {
      "image/png": "[encoded data removed]",
      "text/plain": [
       "<Figure size 720x540 with 1 Axes>"
      ]
     },
     "metadata": {
      "needs_background": "light"
     },
     "output_type": "display_data"
    },
    {
     "data": {
      "image/png": "[encoded data removed]",
      "text/plain": [
       "<Figure size 720x540 with 1 Axes>"
      ]
     },
     "metadata": {
      "needs_background": "light"
     },
     "output_type": "display_data"
    },
    {
     "data": {
      "image/png": "[encoded data removed]",
      "text/plain": [
       "<Figure size 720x540 with 1 Axes>"
      ]
     },
     "metadata": {
      "needs_background": "light"
     },
     "output_type": "display_data"
    }
   ],
   "source": [
    "import matplotlib.pyplot as plt\n",
    "%matplotlib inline\n",
    "\n",
    "unit_list = ['[log(GeV)]', '[log(GeV)]', '[rad/3]', '[rad/3]']\n",
    "variable_list = [r'$E$', r'$p_T$', r'$\\eta$', r'$\\phi$']\n",
    "\n",
    "branches=[\"E\", \"pt\",\"eta\",\"phi\"]\n",
    "\n",
    "n_bins = 100\n",
    "\n",
    "for kk in range(0,4):\n",
    "    plt.figure(figsize=(10,7.5))\n",
    "    n_hist_data, bin_edges, _ = plt.hist(train[branches[kk]], color='gray', label='Input', alpha=1, bins=n_bins)\n",
    "    plt.xlabel(xlabel=variable_list[kk] + ' ' + unit_list[kk])\n",
    "    plt.ylabel('# of events')\n",
    "    if save:\n",
    "        plt.savefig(os.path.join(save_dir,f'data_' + test.columns[kk] + '.png'))"
   ]
  },
  {
   "cell_type": "markdown",
   "metadata": {},
   "source": [
    "# Scaling our data"
   ]
  },
  {
   "cell_type": "code",
   "execution_count": 9,
   "metadata": {},
   "outputs": [],
   "source": [
    "from sklearn.preprocessing import MinMaxScaler\n",
    "from sklearn.preprocessing import StandardScaler\n",
    "\n",
    "def apply_log(train_x, test_x, f_name):\n",
    "    train_x[f_name] = train_x[f_name].apply(lambda x : np.log(1 + x))\n",
    "    test_x[f_name] = test_x[f_name].apply(lambda x : np.log(1 + x))\n",
    "    \n",
    "    return train_x, test_x\n",
    "    \n",
    "def apply_scaler(train_x, test_x, f_name, scaler):\n",
    "    scaler.fit(train_x[f_name].to_numpy().reshape(-1, 1))\n",
    "    train_x[f_name] = scaler.transform(train_x[f_name].to_numpy().reshape(-1, 1))\n",
    "    test_x[f_name] = scaler.transform(test_x[f_name].to_numpy().reshape(-1, 1))\n",
    "    \n",
    "    return train_x, test_x, scaler\n",
    "    \n",
    "def custom_scaler(train, test):\n",
    "    #Since \\eta follows a normal distribution, we can use standardScaler to scale it.\n",
    "    #For E and pt we can use log(1 + x)\n",
    "    # for \\phi, we can use MinMaxScaling\n",
    "    \n",
    "    train_x = train.copy(deep=True)\n",
    "    test_x = test.copy(deep=True)\n",
    "    \n",
    "    standard_scaler_eta = StandardScaler()\n",
    "    min_max_scaler_e = MinMaxScaler()\n",
    "    min_max_scaler_pt = MinMaxScaler()\n",
    "    min_max_scaler_phi = MinMaxScaler()\n",
    "    \n",
    "    \n",
    "    train_x, test_x = apply_log(train_x, test_x, 'E')\n",
    "    train_x, test_x, min_max_scaler_e = apply_scaler(train_x, test_x, 'E', min_max_scaler_e)\n",
    "    \n",
    "    train_x, test_x = apply_log(train_x, test_x, 'pt')\n",
    "    train_x, test_x, min_max_scaler_pt = apply_scaler(train_x, test_x, 'pt', min_max_scaler_pt)\n",
    "    \n",
    "    train_x, test_x, standard_scaler_eta = apply_scaler(train_x, test_x, 'eta', standard_scaler_eta)\n",
    "    \n",
    "    train_x, test_x, min_max_scaler_phi = apply_scaler(train_x, test_x, 'phi', min_max_scaler_phi)\n",
    "    \n",
    "    return train_x, test_x, min_max_scaler_e, min_max_scaler_pt, standard_scaler_eta, min_max_scaler_phi"
   ]
  },
  {
   "cell_type": "code",
   "execution_count": 10,
   "metadata": {},
   "outputs": [],
   "source": [
    "def apply_inverse_scaler(data_x, f_name, scaler):\n",
    "    data_x[f_name] = scaler.inverse_transform(data_x[f_name].to_numpy().reshape(-1, 1))\n",
    "    \n",
    "    return data_x \n",
    "\n",
    "def apply_exp(data_x, f_name):\n",
    "    data_x[f_name] = data_x[f_name].apply(lambda x : np.exp(1 + x))\n",
    "    \n",
    "    return data_x\n",
    "\n",
    "def denormalise_data(data, min_max_scaler_e, min_max_scaler_pt, standard_scaler_eta, min_max_scaler_phi):\n",
    "    \n",
    "    data_x = data.copy(deep=True)\n",
    "    data_x = apply_inverse_scaler(data_x, 'E', min_max_scaler_e)\n",
    "    data_x = apply_exp(data_x, 'E')\n",
    "    \n",
    "    data_x = apply_inverse_scaler(data_x, 'pt', min_max_scaler_pt)\n",
    "    data_x = apply_exp(data_x, 'pt')\n",
    "    \n",
    "    data_x = apply_inverse_scaler(data_x, 'eta', standard_scaler_eta)\n",
    "    \n",
    "    data_x = apply_inverse_scaler(data_x, 'phi', min_max_scaler_phi)\n",
    "    \n",
    "    return data_x"
   ]
  },
  {
   "cell_type": "code",
   "execution_count": 11,
   "metadata": {},
   "outputs": [
    {
     "name": "stdout",
     "output_type": "stream",
     "text": [
      "Normalised Training sample:\n",
      "              E        pt       eta       phi\n",
      "15143  0.441278  0.030847  1.925597  0.916578\n",
      "22423  0.574448  0.015517 -2.440158  0.003993\n",
      "20300  0.255739  0.146322 -0.910590  0.768718\n",
      "11831  0.421363  0.071919 -1.743547  0.668243\n",
      "20776  0.527813  0.610079 -0.162093  0.649494\n",
      "\n",
      "\n",
      "Normalised Testing sample:\n",
      "              E        pt       eta       phi\n",
      "10129  0.419752  0.392093  0.681922  0.737644\n",
      "6374   0.254941  0.184612  0.761071  0.592871\n",
      "21123  0.423950  0.437419 -0.507511  0.361191\n",
      "9179   0.664077  0.664872 -0.704736  0.352247\n",
      "16467  0.710255  0.486329  1.462961  0.263653\n",
      "\n",
      "\n"
     ]
    }
   ],
   "source": [
    "# 1 for custom scaling, 2 for StandardScaler, 3 for MinMaxScaler\n",
    "scaling_method = 1\n",
    "\n",
    "if (scaling_method == 1):\n",
    "    train_x, test_x, min_max_scaler_e, min_max_scaler_pt, standard_scaler_eta, min_max_scaler_phi \\\n",
    "        = custom_scaler(train, test)\n",
    "\n",
    "else:\n",
    "    if (scaling_method == 2):\n",
    "        scaler = StandardScaler()\n",
    "    elif(scaling_method == 3):\n",
    "        scaler = MinMaxScaler()\n",
    "    \n",
    "    scaler.fit(train)\n",
    "\n",
    "    train_x = pd.DataFrame(scaler.transform(train.to_numpy()), columns=train.columns)\n",
    "    test_x = pd.DataFrame(scaler.transform(test.to_numpy()), columns=test.columns)\n",
    "\n",
    "print('Normalised Training sample:')\n",
    "print(train_x.head())\n",
    "\n",
    "print('\\n')\n",
    "\n",
    "print('Normalised Testing sample:')\n",
    "print(test_x.head())\n",
    "\n",
    "print('\\n')"
   ]
  },
  {
   "cell_type": "markdown",
   "metadata": {},
   "source": [
    "# Defining the network"
   ]
  },
  {
   "cell_type": "code",
   "execution_count": 12,
   "metadata": {},
   "outputs": [],
   "source": [
    "import torch\n",
    "import torch.nn as nn\n",
    "import torch.optim as optim\n",
    "import torch.utils.data\n",
    "from torch.autograd import Variable\n",
    "\n",
    "from torch.utils.data import TensorDataset\n",
    "from torch.utils.data import DataLoader\n",
    "\n",
    "train_y = train_x  # y = x since we are building an autoencoder\n",
    "test_y = test_x\n",
    "\n",
    "from fastai import learner\n",
    "from fastai.data import core\n",
    "\n",
    "# Constructs a tensor object of the data and wraps them in a TensorDataset object.\n",
    "train_ds = TensorDataset(torch.tensor(train_x.values, dtype=torch.float), torch.tensor(train_y.values, dtype=torch.float))\n",
    "valid_ds = TensorDataset(torch.tensor(test_x.values, dtype=torch.float), torch.tensor(test_y.values, dtype=torch.float))"
   ]
  },
  {
   "cell_type": "code",
   "execution_count": 13,
   "metadata": {},
   "outputs": [],
   "source": [
    "bs = 256\n",
    "\n",
    "# Converts the TensorDataset into a DataLoader object and combines into one DataLoaders object (a basic wrapper\n",
    "# around several DataLoader objects). \n",
    "train_dl = DataLoader(train_ds, batch_size=bs, shuffle=True)\n",
    "valid_dl = DataLoader(valid_ds, batch_size=bs * 2)\n",
    "dls = core.DataLoaders(train_dl, valid_dl)"
   ]
  },
  {
   "cell_type": "code",
   "execution_count": 14,
   "metadata": {},
   "outputs": [
    {
     "data": {
      "text/plain": [
       "AE_3D_200_LeakyReLU(\n",
       "  (en1): Linear(in_features=4, out_features=200, bias=True)\n",
       "  (en2): Linear(in_features=200, out_features=200, bias=True)\n",
       "  (en3): Linear(in_features=200, out_features=20, bias=True)\n",
       "  (en4): Linear(in_features=20, out_features=3, bias=True)\n",
       "  (de1): Linear(in_features=3, out_features=20, bias=True)\n",
       "  (de2): Linear(in_features=20, out_features=200, bias=True)\n",
       "  (de3): Linear(in_features=200, out_features=200, bias=True)\n",
       "  (de4): Linear(in_features=200, out_features=4, bias=True)\n",
       "  (tanh): Tanh()\n",
       ")"
      ]
     },
     "execution_count": 14,
     "metadata": {},
     "output_type": "execute_result"
    }
   ],
   "source": [
    "  class AE_3D_200_LeakyReLU(nn.Module):\n",
    "    def __init__(self, n_features=4):\n",
    "        super(AE_3D_200_LeakyReLU, self).__init__()\n",
    "        self.en1 = nn.Linear(n_features, 200)\n",
    "        self.en2 = nn.Linear(200, 200)\n",
    "        self.en3 = nn.Linear(200, 20)\n",
    "        self.en4 = nn.Linear(20, 3)\n",
    "        \n",
    "        self.de1 = nn.Linear(3, 20)\n",
    "        self.de2 = nn.Linear(20, 200)\n",
    "        self.de3 = nn.Linear(200, 200)\n",
    "        self.de4 = nn.Linear(200, n_features)\n",
    "        self.tanh = nn.Tanh()\n",
    "\n",
    "    def encode(self, x):\n",
    "        return self.en4(self.tanh(self.en3(self.tanh(self.en2(self.tanh(self.en1(x)))))))\n",
    "\n",
    "    def decode(self, x):\n",
    "        return self.de4(self.tanh(self.de3(self.tanh(self.de2(self.tanh(self.de1(self.tanh(x))))))))\n",
    "\n",
    "    def forward(self, x):\n",
    "        z = self.encode(x)\n",
    "        return self.decode(z)\n",
    "\n",
    "    def describe(self):\n",
    "        return 'in-200-200-20-3-20-200-200-out'\n",
    "\n",
    "model = AE_3D_200_LeakyReLU()\n",
    "model.to('cpu')"
   ]
  },
  {
   "cell_type": "code",
   "execution_count": 15,
   "metadata": {},
   "outputs": [],
   "source": [
    "from fastai.metrics import mse\n",
    "\n",
    "loss_func = nn.MSELoss()\n",
    "\n",
    "wd = 1e-6\n",
    "\n",
    "recorder = learner.Recorder()\n",
    "learn = learner.Learner(dls, model=model, wd=wd, loss_func=loss_func, cbs=recorder)"
   ]
  },
  {
   "cell_type": "code",
   "execution_count": 16,
   "metadata": {},
   "outputs": [
    {
     "name": "stdout",
     "output_type": "stream",
     "text": [
      "Learning rate with the minimum loss: 0.004786301031708717\n",
      "Learning rate with the steepest gradient: 0.00363078061491251\n"
     ]
    },
    {
     "data": {
      "image/png": "[encoded data removed]",
      "text/plain": [
       "<Figure size 432x288 with 1 Axes>"
      ]
     },
     "metadata": {
      "needs_background": "light"
     },
     "output_type": "display_data"
    }
   ],
   "source": [
    "from fastai.callback import schedule\n",
    "\n",
    "lr_min, lr_steep = learn.lr_find()\n",
    "\n",
    "print('Learning rate with the minimum loss:', lr_min)\n",
    "print('Learning rate with the steepest gradient:', lr_steep)"
   ]
  },
  {
   "cell_type": "markdown",
   "metadata": {},
   "source": [
    "# Training the network"
   ]
  },
  {
   "cell_type": "code",
   "execution_count": 17,
   "metadata": {},
   "outputs": [
    {
     "name": "stdout",
     "output_type": "stream",
     "text": [
      "[0, 0.15528281033039093, 0.08954308182001114, '00:00']\n",
      "[0, 0.15528281033039093, 0.08954308182001114, '00:00']\n",
      "[1, 0.07022884488105774, 0.027806561440229416, '00:00']\n",
      "[1, 0.07022884488105774, 0.027806561440229416, '00:00']\n",
      "[2, 0.027016518637537956, 0.006466276943683624, '00:00']\n",
      "[2, 0.027016518637537956, 0.006466276943683624, '00:00']\n",
      "[3, 0.010908761061728, 0.004051610361784697, '00:00']\n",
      "[3, 0.010908761061728, 0.004051610361784697, '00:00']\n",
      "[4, 0.0056169964373111725, 0.0032129946630448103, '00:00']\n",
      "[4, 0.0056169964373111725, 0.0032129946630448103, '00:00']\n",
      "[5, 0.0037036030553281307, 0.002661945065483451, '00:00']\n",
      "[5, 0.0037036030553281307, 0.002661945065483451, '00:00']\n",
      "[6, 0.0021501416340470314, 0.0009308872395195067, '00:00']\n",
      "[6, 0.0021501416340470314, 0.0009308872395195067, '00:00']\n",
      "[7, 0.0010473045986145735, 0.00038533867336809635, '00:00']\n",
      "[7, 0.0010473045986145735, 0.00038533867336809635, '00:00']\n",
      "[8, 0.0007737316773273051, 0.0002414196787867695, '00:00']\n",
      "[8, 0.0007737316773273051, 0.0002414196787867695, '00:00']\n",
      "[9, 0.0006569125689566135, 0.0003265943960286677, '00:00']\n",
      "[9, 0.0006569125689566135, 0.0003265943960286677, '00:00']\n",
      "[10, 0.0007889206171967089, 0.00025780987925827503, '00:00']\n",
      "[10, 0.0007889206171967089, 0.00025780987925827503, '00:00']\n",
      "[11, 0.000919838494155556, 0.002611614530906081, '00:00']\n",
      "[11, 0.000919838494155556, 0.002611614530906081, '00:00']\n",
      "[12, 0.002222553128376603, 0.0016245070146396756, '00:00']\n",
      "[12, 0.002222553128376603, 0.0016245070146396756, '00:00']\n",
      "[13, 0.0012331648031249642, 0.00030778354266658425, '00:00']\n",
      "[13, 0.0012331648031249642, 0.00030778354266658425, '00:00']\n",
      "[14, 0.001364312949590385, 0.0013891257112845778, '00:00']\n",
      "[14, 0.001364312949590385, 0.0013891257112845778, '00:00']\n",
      "[15, 0.0024797348305583, 0.003850779961794615, '00:00']\n",
      "[15, 0.0024797348305583, 0.003850779961794615, '00:00']\n",
      "[16, 0.0013244536239653826, 0.0008605978800915182, '00:00']\n",
      "[16, 0.0013244536239653826, 0.0008605978800915182, '00:00']\n",
      "[17, 0.0015183949144557118, 0.0009526411886326969, '00:00']\n",
      "[17, 0.0015183949144557118, 0.0009526411886326969, '00:00']\n",
      "[18, 0.001718288054689765, 0.00047529861330986023, '00:00']\n",
      "[18, 0.001718288054689765, 0.00047529861330986023, '00:00']\n",
      "[19, 0.0015171181876212358, 0.0005868390435352921, '00:00']\n",
      "[19, 0.0015171181876212358, 0.0005868390435352921, '00:00']\n",
      "[20, 0.001389041543006897, 0.000540015404112637, '00:00']\n",
      "[20, 0.001389041543006897, 0.000540015404112637, '00:00']\n",
      "[21, 0.002978272270411253, 0.002963854232802987, '00:00']\n",
      "[21, 0.002978272270411253, 0.002963854232802987, '00:00']\n",
      "[22, 0.002329053357243538, 0.0012533332919701934, '00:00']\n",
      "[22, 0.002329053357243538, 0.0012533332919701934, '00:00']\n",
      "[23, 0.002499424619600177, 0.001288129249587655, '00:00']\n",
      "[23, 0.002499424619600177, 0.001288129249587655, '00:00']\n",
      "[24, 0.0020549683831632137, 0.0004117633798159659, '00:00']\n",
      "[24, 0.0020549683831632137, 0.0004117633798159659, '00:00']\n",
      "[25, 0.0016902852803468704, 0.0027541869785636663, '00:00']\n",
      "[25, 0.0016902852803468704, 0.0027541869785636663, '00:00']\n",
      "[26, 0.0018523235339671373, 0.0007677759276703, '00:00']\n",
      "[26, 0.0018523235339671373, 0.0007677759276703, '00:00']\n",
      "[27, 0.0010105592664331198, 0.0019892342388629913, '00:00']\n",
      "[27, 0.0010105592664331198, 0.0019892342388629913, '00:00']\n",
      "[28, 0.0011691409163177013, 0.0003167010145261884, '00:00']\n",
      "[28, 0.0011691409163177013, 0.0003167010145261884, '00:00']\n",
      "[29, 0.001944900956004858, 0.0044500273652374744, '00:00']\n",
      "[29, 0.001944900956004858, 0.0044500273652374744, '00:00']\n",
      "[30, 0.001252270070835948, 0.0006430670619010925, '00:00']\n",
      "[30, 0.001252270070835948, 0.0006430670619010925, '00:00']\n",
      "[31, 0.0009470927179791033, 0.00039466735324822366, '00:00']\n",
      "[31, 0.0009470927179791033, 0.00039466735324822366, '00:00']\n",
      "[32, 0.0011766210664063692, 0.0010060640051960945, '00:00']\n",
      "[32, 0.0011766210664063692, 0.0010060640051960945, '00:00']\n",
      "[33, 0.0007344977930188179, 0.0005141539731994271, '00:00']\n",
      "[33, 0.0007344977930188179, 0.0005141539731994271, '00:00']\n",
      "[34, 0.0007417870801873505, 0.00048446477740071714, '00:00']\n",
      "[34, 0.0007417870801873505, 0.00048446477740071714, '00:00']\n",
      "[35, 0.0013987574493512511, 0.0001813265698729083, '00:00']\n",
      "[35, 0.0013987574493512511, 0.0001813265698729083, '00:00']\n",
      "[36, 0.0008530696504749358, 0.00012997273006476462, '00:00']\n",
      "[36, 0.0008530696504749358, 0.00012997273006476462, '00:00']\n",
      "[37, 0.0006309269811026752, 0.00035970137105323374, '00:00']\n",
      "[37, 0.0006309269811026752, 0.00035970137105323374, '00:00']\n",
      "[38, 0.0006577003514394164, 0.00048051957855932415, '00:00']\n",
      "[38, 0.0006577003514394164, 0.00048051957855932415, '00:00']\n",
      "[39, 0.0007553991163149476, 0.00036925458698533475, '00:00']\n",
      "[39, 0.0007553991163149476, 0.00036925458698533475, '00:00']\n",
      "[40, 0.0006010298966430128, 0.00039185569039545953, '00:00']\n",
      "[40, 0.0006010298966430128, 0.00039185569039545953, '00:00']\n",
      "[41, 0.0005326237878762186, 0.00038924426189623773, '00:00']\n",
      "[41, 0.0005326237878762186, 0.00038924426189623773, '00:00']\n",
      "[42, 0.0004438103351276368, 0.0056177475489676, '00:00']\n",
      "[42, 0.0004438103351276368, 0.0056177475489676, '00:00']\n",
      "[43, 0.0005759435007348657, 0.00013916198804508895, '00:00']\n",
      "[43, 0.0005759435007348657, 0.00013916198804508895, '00:00']\n",
      "[44, 0.0004304884932935238, 0.0006141905323602259, '00:00']\n",
      "[44, 0.0004304884932935238, 0.0006141905323602259, '00:00']\n",
      "[45, 0.0003351544146426022, 0.0003250133595429361, '00:00']\n",
      "[45, 0.0003351544146426022, 0.0003250133595429361, '00:00']\n",
      "[46, 0.00035013523302040994, 0.00011853267642436549, '00:00']\n",
      "[46, 0.00035013523302040994, 0.00011853267642436549, '00:00']\n",
      "[47, 0.0003661136724986136, 0.00015884399181231856, '00:00']\n",
      "[47, 0.0003661136724986136, 0.00015884399181231856, '00:00']\n",
      "[48, 0.00044982563122175634, 0.00020716564904432744, '00:00']\n",
      "[48, 0.00044982563122175634, 0.00020716564904432744, '00:00']\n",
      "[49, 0.0004330482624936849, 0.00020577869145199656, '00:00']\n",
      "[49, 0.0004330482624936849, 0.00020577869145199656, '00:00']\n",
      "[50, 0.00028800300788134336, 0.00049055484123528, '00:00']\n",
      "[50, 0.00028800300788134336, 0.00049055484123528, '00:00']\n",
      "[51, 0.0002372462477069348, 0.00023793683794792742, '00:00']\n",
      "[51, 0.0002372462477069348, 0.00023793683794792742, '00:00']\n",
      "[52, 0.00027449653134681284, 0.00010397721052868292, '00:00']\n",
      "[52, 0.00027449653134681284, 0.00010397721052868292, '00:00']\n",
      "[53, 0.0003059979935642332, 0.00013610732275992632, '00:00']\n",
      "[53, 0.0003059979935642332, 0.00013610732275992632, '00:00']\n",
      "[54, 0.0001439589395886287, 9.686962584964931e-05, '00:00']\n",
      "[54, 0.0001439589395886287, 9.686962584964931e-05, '00:00']\n",
      "[55, 0.00014897137589287013, 8.234619599534199e-05, '00:00']\n",
      "[55, 0.00014897137589287013, 8.234619599534199e-05, '00:00']\n",
      "[56, 0.00014601594011764973, 0.0004521444789133966, '00:00']\n",
      "[56, 0.00014601594011764973, 0.0004521444789133966, '00:00']\n",
      "[57, 0.00013956993643660098, 0.00011448314762674272, '00:00']\n",
      "[57, 0.00013956993643660098, 0.00011448314762674272, '00:00']\n",
      "[58, 0.00011387695121811703, 0.00027295888867229223, '00:00']\n",
      "[58, 0.00011387695121811703, 0.00027295888867229223, '00:00']\n",
      "[59, 0.00012303038965910673, 4.317117782193236e-05, '00:00']\n",
      "[59, 0.00012303038965910673, 4.317117782193236e-05, '00:00']\n",
      "[60, 8.395857003051788e-05, 4.867972165811807e-05, '00:00']\n",
      "[60, 8.395857003051788e-05, 4.867972165811807e-05, '00:00']\n",
      "[61, 7.276363612618297e-05, 5.082796997157857e-05, '00:00']\n",
      "[61, 7.276363612618297e-05, 5.082796997157857e-05, '00:00']\n",
      "[62, 7.226734305731952e-05, 7.07954604877159e-05, '00:00']\n",
      "[62, 7.226734305731952e-05, 7.07954604877159e-05, '00:00']\n",
      "[63, 9.108577069127932e-05, 4.6195349568733945e-05, '00:00']\n",
      "[63, 9.108577069127932e-05, 4.6195349568733945e-05, '00:00']\n",
      "[64, 4.235181040712632e-05, 1.2955368219991215e-05, '00:00']\n",
      "[64, 4.235181040712632e-05, 1.2955368219991215e-05, '00:00']\n",
      "[65, 4.140026794630103e-05, 1.93104369827779e-05, '00:00']\n",
      "[65, 4.140026794630103e-05, 1.93104369827779e-05, '00:00']\n",
      "[66, 4.5976168621564284e-05, 2.6604395316098817e-05, '00:00']\n",
      "[66, 4.5976168621564284e-05, 2.6604395316098817e-05, '00:00']\n",
      "[67, 5.305779632180929e-05, 0.00018751401512417942, '00:00']\n",
      "[67, 5.305779632180929e-05, 0.00018751401512417942, '00:00']\n",
      "[68, 5.0938528147526085e-05, 1.5835812519071624e-05, '00:00']\n",
      "[68, 5.0938528147526085e-05, 1.5835812519071624e-05, '00:00']\n"
     ]
    },
    {
     "name": "stdout",
     "output_type": "stream",
     "text": [
      "[69, 2.522212525946088e-05, 1.4655550330644473e-05, '00:00']\n",
      "[69, 2.522212525946088e-05, 1.4655550330644473e-05, '00:00']\n",
      "[70, 2.7008485631085932e-05, 2.4017181203817017e-05, '00:00']\n",
      "[70, 2.7008485631085932e-05, 2.4017181203817017e-05, '00:00']\n",
      "[71, 2.1322352040442638e-05, 9.01619114301866e-06, '00:00']\n",
      "[71, 2.1322352040442638e-05, 9.01619114301866e-06, '00:00']\n",
      "[72, 1.9399765733396634e-05, 1.0650393960531801e-05, '00:00']\n",
      "[72, 1.9399765733396634e-05, 1.0650393960531801e-05, '00:00']\n",
      "[73, 1.4993795048212633e-05, 1.1427597200963646e-05, '00:00']\n",
      "[73, 1.4993795048212633e-05, 1.1427597200963646e-05, '00:00']\n",
      "[74, 1.580068055773154e-05, 2.5617848223191686e-05, '00:00']\n",
      "[74, 1.580068055773154e-05, 2.5617848223191686e-05, '00:00']\n",
      "[75, 1.421210436092224e-05, 6.082550953578902e-06, '00:00']\n",
      "[75, 1.421210436092224e-05, 6.082550953578902e-06, '00:00']\n",
      "[76, 8.774197340244427e-06, 7.0879377744859084e-06, '00:00']\n",
      "[76, 8.774197340244427e-06, 7.0879377744859084e-06, '00:00']\n",
      "[77, 9.71753615885973e-06, 6.1924242800159846e-06, '00:00']\n",
      "[77, 9.71753615885973e-06, 6.1924242800159846e-06, '00:00']\n",
      "[78, 7.086620826157741e-06, 5.989881628920557e-06, '00:00']\n",
      "[78, 7.086620826157741e-06, 5.989881628920557e-06, '00:00']\n",
      "[79, 6.253579613257898e-06, 5.2452269301284105e-06, '00:00']\n",
      "[79, 6.253579613257898e-06, 5.2452269301284105e-06, '00:00']\n",
      "[80, 6.049498097127071e-06, 6.279739409364993e-06, '00:00']\n",
      "[80, 6.049498097127071e-06, 6.279739409364993e-06, '00:00']\n",
      "[81, 5.381264600146096e-06, 5.1524393711588345e-06, '00:00']\n",
      "[81, 5.381264600146096e-06, 5.1524393711588345e-06, '00:00']\n",
      "[82, 4.739493761007907e-06, 4.0237446228275076e-06, '00:00']\n",
      "[82, 4.739493761007907e-06, 4.0237446228275076e-06, '00:00']\n",
      "[83, 4.909544259135146e-06, 5.287033673084807e-06, '00:00']\n",
      "[83, 4.909544259135146e-06, 5.287033673084807e-06, '00:00']\n",
      "[84, 4.730726686830167e-06, 4.208143309369916e-06, '00:00']\n",
      "[84, 4.730726686830167e-06, 4.208143309369916e-06, '00:00']\n",
      "[85, 3.7493596209969837e-06, 3.2030466172727756e-06, '00:00']\n",
      "[85, 3.7493596209969837e-06, 3.2030466172727756e-06, '00:00']\n",
      "[86, 3.3828848700068193e-06, 3.0329226774483686e-06, '00:00']\n",
      "[86, 3.3828848700068193e-06, 3.0329226774483686e-06, '00:00']\n",
      "[87, 3.1933270747686038e-06, 2.9965237899887143e-06, '00:00']\n",
      "[87, 3.1933270747686038e-06, 2.9965237899887143e-06, '00:00']\n",
      "[88, 2.970017476400244e-06, 2.9405880468402756e-06, '00:00']\n",
      "[88, 2.970017476400244e-06, 2.9405880468402756e-06, '00:00']\n",
      "[89, 2.774397898974712e-06, 2.676403482837486e-06, '00:00']\n",
      "[89, 2.774397898974712e-06, 2.676403482837486e-06, '00:00']\n",
      "[90, 2.6711393275036244e-06, 2.5121726139332168e-06, '00:00']\n",
      "[90, 2.6711393275036244e-06, 2.5121726139332168e-06, '00:00']\n",
      "[91, 2.559220547482255e-06, 2.584538151495508e-06, '00:00']\n",
      "[91, 2.559220547482255e-06, 2.584538151495508e-06, '00:00']\n",
      "[92, 2.479268005117774e-06, 2.5359563551319297e-06, '00:00']\n",
      "[92, 2.479268005117774e-06, 2.5359563551319297e-06, '00:00']\n",
      "[93, 2.432793053230853e-06, 2.373502184127574e-06, '00:00']\n",
      "[93, 2.432793053230853e-06, 2.373502184127574e-06, '00:00']\n",
      "[94, 2.3547215732833138e-06, 2.3620193587703397e-06, '00:00']\n",
      "[94, 2.3547215732833138e-06, 2.3620193587703397e-06, '00:00']\n",
      "[95, 2.298740582773462e-06, 2.2924793938727817e-06, '00:00']\n",
      "[95, 2.298740582773462e-06, 2.2924793938727817e-06, '00:00']\n",
      "[96, 2.274753114761552e-06, 2.2689309844281524e-06, '00:00']\n",
      "[96, 2.274753114761552e-06, 2.2689309844281524e-06, '00:00']\n",
      "[97, 2.2554906990990276e-06, 2.244856659672223e-06, '00:00']\n",
      "[97, 2.2554906990990276e-06, 2.244856659672223e-06, '00:00']\n",
      "[98, 2.1926832687313436e-06, 2.2375513708539074e-06, '00:00']\n",
      "[98, 2.1926832687313436e-06, 2.2375513708539074e-06, '00:00']\n",
      "[99, 2.1790563096146798e-06, 2.2344438548316248e-06, '00:00']\n",
      "[99, 2.1790563096146798e-06, 2.2344438548316248e-06, '00:00']\n",
      "Training took 62.81925135700021 seconds\n"
     ]
    }
   ],
   "source": [
    "import time\n",
    "\n",
    "start = time.perf_counter() # Starts timer\n",
    "learn.fit_one_cycle(100, lr_min)\n",
    "end = time.perf_counter() # Ends timer\n",
    "delta_t = end - start\n",
    "print('Training took', delta_t, 'seconds')"
   ]
  },
  {
   "cell_type": "code",
   "execution_count": 18,
   "metadata": {},
   "outputs": [
    {
     "data": {
      "image/png": "[encoded data removed]",
      "text/plain": [
       "<Figure size 432x288 with 1 Axes>"
      ]
     },
     "metadata": {
      "needs_background": "light"
     },
     "output_type": "display_data"
    }
   ],
   "source": [
    "recorder.plot_loss()"
   ]
  },
  {
   "cell_type": "code",
   "execution_count": 19,
   "metadata": {},
   "outputs": [
    {
     "data": {
      "text/plain": [
       "(#1) [2.2344438548316248e-06]"
      ]
     },
     "execution_count": 19,
     "metadata": {},
     "output_type": "execute_result"
    }
   ],
   "source": [
    "learn.validate()"
   ]
  },
  {
   "cell_type": "markdown",
   "metadata": {},
   "source": [
    "# Making the compression plots"
   ]
  },
  {
   "cell_type": "code",
   "execution_count": 20,
   "metadata": {},
   "outputs": [
    {
     "data": {
      "image/png": "[encoded data removed]",
      "text/plain": [
       "<Figure size 720x540 with 1 Axes>"
      ]
     },
     "metadata": {
      "needs_background": "light"
     },
     "output_type": "display_data"
    },
    {
     "data": {
      "image/png": "[encoded data removed]",
      "text/plain": [
       "<Figure size 720x540 with 1 Axes>"
      ]
     },
     "metadata": {
      "needs_background": "light"
     },
     "output_type": "display_data"
    },
    {
     "data": {
      "image/png": "[encoded data removed]",
      "text/plain": [
       "<Figure size 720x540 with 1 Axes>"
      ]
     },
     "metadata": {
      "needs_background": "light"
     },
     "output_type": "display_data"
    },
    {
     "data": {
      "image/png": "[encoded data removed]",
      "text/plain": [
       "<Figure size 720x540 with 1 Axes>"
      ]
     },
     "metadata": {
      "needs_background": "light"
     },
     "output_type": "display_data"
    }
   ],
   "source": [
    "import numpy as np\n",
    "\n",
    "plt.close('all')\n",
    "variable_list = [r'$E$', r'$p_{T,in}$', r'$\\eta$', r'$\\phi$']\n",
    "\n",
    "line_style = ['--', '-']\n",
    "colors = ['orange', 'c']\n",
    "markers = ['*', 's']\n",
    "\n",
    "model.to('cpu')\n",
    "\n",
    "# Histograms\n",
    "idxs = (0, 100000)  # Choose events to compare\n",
    "data = torch.tensor(test_x[idxs[0]:idxs[1]].values, dtype=torch.float)\n",
    "pred = model(data)\n",
    "pred = pred.detach().numpy()\n",
    "data = data.detach().numpy()\n",
    "\n",
    "data_df = pd.DataFrame(data, columns=test.columns)\n",
    "pred_df = pd.DataFrame(pred, columns=test.columns)\n",
    "\n",
    "if (scaling_method == 1):\n",
    "    unnormalized_data_df = denormalise_data(data_df, min_max_scaler_e, min_max_scaler_pt, standard_scaler_eta, min_max_scaler_phi)\n",
    "    unnormalized_pred_df = denormalise_data(pred_df, min_max_scaler_e, min_max_scaler_pt, standard_scaler_eta, min_max_scaler_phi)\n",
    "else:\n",
    "    unnormalized_data_df = pd.DataFrame(scaler.inverse_transform(data), columns=data_df.columns)\n",
    "    unnormalized_pred_df = pd.DataFrame(scaler.inverse_transform(pred), columns=pred_df.columns)\n",
    "    \n",
    "unnormalized_data = unnormalized_data_df.to_numpy()\n",
    "unnormalized_pred = unnormalized_pred_df.to_numpy()\n",
    "    \n",
    "alph = 0.8\n",
    "n_bins = 200\n",
    "for kk in np.arange(4):\n",
    "    plt.figure(figsize=(10,7.5))\n",
    "    plt.ticklabel_format(axis=\"both\", style=\"sci\")\n",
    "    n_hist_data, bin_edges, _ = plt.hist(unnormalized_data[:, kk], color=colors[1], label='Input', alpha=1, bins=n_bins)\n",
    "    n_hist_pred, _, _ = plt.hist(unnormalized_pred[:, kk], color=colors[0], label='Output', alpha=alph, bins=bin_edges)\n",
    "    plt.suptitle(test.columns[kk])\n",
    "    plt.xlabel(xlabel=variable_list[kk])\n",
    "    plt.ylabel('Number of events')\n",
    "    plt.yscale('log')\n",
    "    plt.legend()\n",
    "    if save:\n",
    "        plt.savefig(os.path.join(save_dir,'compression_' + test.columns[kk] + '_' + str(scaling_method) +'.png'))"
   ]
  },
  {
   "cell_type": "markdown",
   "metadata": {},
   "source": [
    "# Making the residual plots"
   ]
  },
  {
   "cell_type": "code",
   "execution_count": 21,
   "metadata": {},
   "outputs": [
    {
     "data": {
      "image/png": "[encoded data removed]",
      "text/plain": [
       "<Figure size 720x540 with 1 Axes>"
      ]
     },
     "metadata": {
      "needs_background": "light"
     },
     "output_type": "display_data"
    },
    {
     "data": {
      "image/png": "[encoded data removed]",
      "text/plain": [
       "<Figure size 720x540 with 1 Axes>"
      ]
     },
     "metadata": {
      "needs_background": "light"
     },
     "output_type": "display_data"
    },
    {
     "data": {
      "image/png": "[encoded data removed]",
      "text/plain": [
       "<Figure size 720x540 with 1 Axes>"
      ]
     },
     "metadata": {
      "needs_background": "light"
     },
     "output_type": "display_data"
    },
    {
     "data": {
      "image/png": "[encoded data removed]",
      "text/plain": [
       "<Figure size 720x540 with 1 Axes>"
      ]
     },
     "metadata": {
      "needs_background": "light"
     },
     "output_type": "display_data"
    }
   ],
   "source": [
    "residual_df = (data_df - pred_df) / data_df\n",
    "residual_data = residual_df.to_numpy()\n",
    "\n",
    "variable_list = [r'$(E_{in} - E_{out})/E_{in}$', r'$(p_{T, in} - p_{T, out})/p_{T, in}$', \n",
    "                 r'$(\\eta_{in} - \\eta_{out})/\\eta_{in}$', r'$(\\phi_{in} - \\phi_{out})/\\phi_{in}$']\n",
    "title_list = [r'$E$', r'$p_T$', r'$\\eta$', r'$\\phi$']\n",
    "\n",
    "n_bins = 200\n",
    "for kk in np.arange(4):\n",
    "    inset_text_str = ', '.join((\n",
    "        'mean=%.2f' % (np.mean(residual_data[:, kk]), ),\n",
    "        'std=%.2f' % (np.std(residual_data[:, kk]), )))\n",
    "    props = dict(boxstyle='round', facecolor='wheat', alpha=0.5)\n",
    "\n",
    "    \n",
    "    fig, ax = plt.subplots(figsize=(10, 7.5))\n",
    "    plt.text(0.525, 1.125, inset_text_str, transform=ax.transAxes, fontsize=14,\n",
    "        verticalalignment='top', bbox=props)\n",
    "    n_hist_data, bin_edges, _ = plt.hist(residual_data[:, kk], color=colors[1], bins=n_bins)\n",
    "    plt.suptitle('Residual plot for ' + title_list[kk], horizontalalignment='right')\n",
    "    plt.xlabel(xlabel=variable_list[kk])\n",
    "    plt.ylabel('Number of events')\n",
    "    plt.yscale('log')\n",
    "    if save:\n",
    "        plt.savefig(os.path.join(save_dir,'residual_' + residual_df.columns[kk] + '_' + str(scaling_method) + '.png'))"
   ]
  },
  {
   "cell_type": "code",
   "execution_count": null,
   "metadata": {},
   "outputs": [],
   "source": []
  }
 ],
 "metadata": {
  "kernelspec": {
   "display_name": "Python 3",
   "language": "python",
   "name": "python3"
  },
  "language_info": {
   "codemirror_mode": {
    "name": "ipython",
    "version": 3
   },
   "file_extension": ".py",
   "mimetype": "text/x-python",
   "name": "python",
   "nbconvert_exporter": "python",
   "pygments_lexer": "ipython3",
   "version": "3.8.5"
  }
 },
 "nbformat": 4,
 "nbformat_minor": 2
}
