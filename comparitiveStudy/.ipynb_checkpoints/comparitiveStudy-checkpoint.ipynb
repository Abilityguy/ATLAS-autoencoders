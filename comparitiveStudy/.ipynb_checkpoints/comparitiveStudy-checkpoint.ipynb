{
 "cells": [
  {
   "cell_type": "code",
   "execution_count": 1,
   "metadata": {},
   "outputs": [],
   "source": [
    "import pandas as pd\n",
    "import numpy as np"
   ]
  },
  {
   "cell_type": "markdown",
   "metadata": {},
   "source": [
    "# Reading the dataset\n",
    "\n",
    "Manual inspections of monojet_Zp2000.0_DM_50.0_chan3.csv indicates a row can have at max 65 columns.\n",
    "This means an event can contain an event in monojet_Zp2000.0_DM_50.0_chan3.csv can contain at max 10 objects.\n",
    "To accomodate for the additional ';' delimiter at the end of line, we consider an additional column."
   ]
  },
  {
   "cell_type": "code",
   "execution_count": 2,
   "metadata": {},
   "outputs": [],
   "source": [
    "max_columns = 65\n",
    "column_names = ['event ID', 'process ID', 'event weight', 'MET', 'METphi']\n",
    "n_obj = int((max_columns - 5) / 5) \n",
    "for i in range(1, n_obj + 1): #Subtracting 5 because first few columns are meta-data.\n",
    "    column_names.extend([f'obj{i}', f'E{i}', f'pt{i}', f'eta{i}', f'phi{i}'])\n",
    "    \n",
    "column_names.append('sentinel')"
   ]
  },
  {
   "cell_type": "code",
   "execution_count": 3,
   "metadata": {},
   "outputs": [],
   "source": [
    "df = pd.read_csv('../monojet_Zp2000.0_DM_50.0_chan3.csv', header=None, sep=',|;', \n",
    "                 names=column_names, engine='python')"
   ]
  },
  {
   "cell_type": "code",
   "execution_count": 4,
   "metadata": {},
   "outputs": [
    {
     "data": {
      "text/html": [
       "<div>\n",
       "<style scoped>\n",
       "    .dataframe tbody tr th:only-of-type {\n",
       "        vertical-align: middle;\n",
       "    }\n",
       "\n",
       "    .dataframe tbody tr th {\n",
       "        vertical-align: top;\n",
       "    }\n",
       "\n",
       "    .dataframe thead th {\n",
       "        text-align: right;\n",
       "    }\n",
       "</style>\n",
       "<table border=\"1\" class=\"dataframe\">\n",
       "  <thead>\n",
       "    <tr style=\"text-align: right;\">\n",
       "      <th></th>\n",
       "      <th>event ID</th>\n",
       "      <th>process ID</th>\n",
       "      <th>event weight</th>\n",
       "      <th>MET</th>\n",
       "      <th>METphi</th>\n",
       "      <th>obj1</th>\n",
       "      <th>E1</th>\n",
       "      <th>pt1</th>\n",
       "      <th>eta1</th>\n",
       "      <th>phi1</th>\n",
       "      <th>...</th>\n",
       "      <th>obj11</th>\n",
       "      <th>E11</th>\n",
       "      <th>pt11</th>\n",
       "      <th>eta11</th>\n",
       "      <th>phi11</th>\n",
       "      <th>obj12</th>\n",
       "      <th>E12</th>\n",
       "      <th>pt12</th>\n",
       "      <th>eta12</th>\n",
       "      <th>phi12</th>\n",
       "    </tr>\n",
       "  </thead>\n",
       "  <tbody>\n",
       "    <tr>\n",
       "      <th>0</th>\n",
       "      <td>354</td>\n",
       "      <td>monojet_Zp2000.0_DM_50.0</td>\n",
       "      <td>0.000024</td>\n",
       "      <td>832841.0</td>\n",
       "      <td>-1.22431</td>\n",
       "      <td>b</td>\n",
       "      <td>947383.0</td>\n",
       "      <td>824498.0</td>\n",
       "      <td>-0.523103</td>\n",
       "      <td>1.644210</td>\n",
       "      <td>...</td>\n",
       "      <td>None</td>\n",
       "      <td>NaN</td>\n",
       "      <td>NaN</td>\n",
       "      <td>NaN</td>\n",
       "      <td>NaN</td>\n",
       "      <td>None</td>\n",
       "      <td>NaN</td>\n",
       "      <td>NaN</td>\n",
       "      <td>NaN</td>\n",
       "      <td>NaN</td>\n",
       "    </tr>\n",
       "    <tr>\n",
       "      <th>1</th>\n",
       "      <td>354</td>\n",
       "      <td>monojet_Zp2000.0_DM_50.0</td>\n",
       "      <td>0.000024</td>\n",
       "      <td>732115.0</td>\n",
       "      <td>1.17245</td>\n",
       "      <td>j</td>\n",
       "      <td>1069460.0</td>\n",
       "      <td>751597.0</td>\n",
       "      <td>0.858186</td>\n",
       "      <td>-1.842170</td>\n",
       "      <td>...</td>\n",
       "      <td>None</td>\n",
       "      <td>NaN</td>\n",
       "      <td>NaN</td>\n",
       "      <td>NaN</td>\n",
       "      <td>NaN</td>\n",
       "      <td>None</td>\n",
       "      <td>NaN</td>\n",
       "      <td>NaN</td>\n",
       "      <td>NaN</td>\n",
       "      <td>NaN</td>\n",
       "    </tr>\n",
       "    <tr>\n",
       "      <th>2</th>\n",
       "      <td>354</td>\n",
       "      <td>monojet_Zp2000.0_DM_50.0</td>\n",
       "      <td>0.000024</td>\n",
       "      <td>1056280.0</td>\n",
       "      <td>-3.06744</td>\n",
       "      <td>j</td>\n",
       "      <td>676000.0</td>\n",
       "      <td>640429.0</td>\n",
       "      <td>0.330450</td>\n",
       "      <td>0.704554</td>\n",
       "      <td>...</td>\n",
       "      <td>None</td>\n",
       "      <td>NaN</td>\n",
       "      <td>NaN</td>\n",
       "      <td>NaN</td>\n",
       "      <td>NaN</td>\n",
       "      <td>None</td>\n",
       "      <td>NaN</td>\n",
       "      <td>NaN</td>\n",
       "      <td>NaN</td>\n",
       "      <td>NaN</td>\n",
       "    </tr>\n",
       "    <tr>\n",
       "      <th>3</th>\n",
       "      <td>354</td>\n",
       "      <td>monojet_Zp2000.0_DM_50.0</td>\n",
       "      <td>0.000024</td>\n",
       "      <td>631781.0</td>\n",
       "      <td>1.64181</td>\n",
       "      <td>j</td>\n",
       "      <td>936707.0</td>\n",
       "      <td>616229.0</td>\n",
       "      <td>0.973383</td>\n",
       "      <td>-1.565920</td>\n",
       "      <td>...</td>\n",
       "      <td>None</td>\n",
       "      <td>NaN</td>\n",
       "      <td>NaN</td>\n",
       "      <td>NaN</td>\n",
       "      <td>NaN</td>\n",
       "      <td>None</td>\n",
       "      <td>NaN</td>\n",
       "      <td>NaN</td>\n",
       "      <td>NaN</td>\n",
       "      <td>NaN</td>\n",
       "    </tr>\n",
       "    <tr>\n",
       "      <th>4</th>\n",
       "      <td>354</td>\n",
       "      <td>monojet_Zp2000.0_DM_50.0</td>\n",
       "      <td>0.000024</td>\n",
       "      <td>457316.0</td>\n",
       "      <td>-1.87536</td>\n",
       "      <td>j</td>\n",
       "      <td>640313.0</td>\n",
       "      <td>589524.0</td>\n",
       "      <td>0.390749</td>\n",
       "      <td>1.237340</td>\n",
       "      <td>...</td>\n",
       "      <td>None</td>\n",
       "      <td>NaN</td>\n",
       "      <td>NaN</td>\n",
       "      <td>NaN</td>\n",
       "      <td>NaN</td>\n",
       "      <td>None</td>\n",
       "      <td>NaN</td>\n",
       "      <td>NaN</td>\n",
       "      <td>NaN</td>\n",
       "      <td>NaN</td>\n",
       "    </tr>\n",
       "  </tbody>\n",
       "</table>\n",
       "<p>5 rows × 65 columns</p>\n",
       "</div>"
      ],
      "text/plain": [
       "   event ID                process ID  event weight        MET   METphi obj1  \\\n",
       "0       354  monojet_Zp2000.0_DM_50.0      0.000024   832841.0 -1.22431    b   \n",
       "1       354  monojet_Zp2000.0_DM_50.0      0.000024   732115.0  1.17245    j   \n",
       "2       354  monojet_Zp2000.0_DM_50.0      0.000024  1056280.0 -3.06744    j   \n",
       "3       354  monojet_Zp2000.0_DM_50.0      0.000024   631781.0  1.64181    j   \n",
       "4       354  monojet_Zp2000.0_DM_50.0      0.000024   457316.0 -1.87536    j   \n",
       "\n",
       "          E1       pt1      eta1      phi1  ... obj11  E11  pt11  eta11  \\\n",
       "0   947383.0  824498.0 -0.523103  1.644210  ...  None  NaN   NaN    NaN   \n",
       "1  1069460.0  751597.0  0.858186 -1.842170  ...  None  NaN   NaN    NaN   \n",
       "2   676000.0  640429.0  0.330450  0.704554  ...  None  NaN   NaN    NaN   \n",
       "3   936707.0  616229.0  0.973383 -1.565920  ...  None  NaN   NaN    NaN   \n",
       "4   640313.0  589524.0  0.390749  1.237340  ...  None  NaN   NaN    NaN   \n",
       "\n",
       "   phi11 obj12  E12  pt12  eta12  phi12  \n",
       "0    NaN  None  NaN   NaN    NaN    NaN  \n",
       "1    NaN  None  NaN   NaN    NaN    NaN  \n",
       "2    NaN  None  NaN   NaN    NaN    NaN  \n",
       "3    NaN  None  NaN   NaN    NaN    NaN  \n",
       "4    NaN  None  NaN   NaN    NaN    NaN  \n",
       "\n",
       "[5 rows x 65 columns]"
      ]
     },
     "execution_count": 4,
     "metadata": {},
     "output_type": "execute_result"
    }
   ],
   "source": [
    "df.drop('sentinel', axis=1, inplace=True)\n",
    "df.head()"
   ]
  },
  {
   "cell_type": "code",
   "execution_count": 5,
   "metadata": {},
   "outputs": [
    {
     "name": "stdout",
     "output_type": "stream",
     "text": [
      "The number of entries in the training data: 22661\n",
      "          E        pt       eta      phi\n",
      "0  258722.0  243675.0  0.328962  2.25014\n",
      "1  520092.0  108590.0 -2.247300 -1.85679\n",
      "2  383024.0   88405.6  2.145160 -1.95635\n",
      "3   39507.6   35365.1  0.470460 -1.16445\n",
      "4  225430.0   26878.2 -2.816080 -2.25938\n"
     ]
    }
   ],
   "source": [
    "# filter the dataframe to keep only jet particles and their values of E, pt, eta and phi\n",
    "filtered_particles = list()\n",
    "\n",
    "for _, row in df.iterrows():\n",
    "    for i in range(1, n_obj + 1): #iterate over different objects in an event.\n",
    "        if(row[f'obj{i}'] == 'j'):\n",
    "            e = row[f'E{i}']\n",
    "            pt = row[f'pt{i}']\n",
    "            eta = row[f'eta{i}']\n",
    "            phi = row[f'phi{i}']\n",
    "            \n",
    "            filtered_particles.append([e, pt, eta, phi])\n",
    "            \n",
    "data = pd.DataFrame(filtered_particles, columns=['E', 'pt', 'eta', 'phi'])\n",
    "print(f'The number of entries in the training data: {len(data)}')\n",
    "print(data.head())"
   ]
  },
  {
   "cell_type": "markdown",
   "metadata": {},
   "source": [
    "# Splitting data into train and test"
   ]
  },
  {
   "cell_type": "code",
   "execution_count": 6,
   "metadata": {},
   "outputs": [
    {
     "name": "stdout",
     "output_type": "stream",
     "text": [
      "Training sample:\n",
      "               E         pt       eta       phi\n",
      "20337   514056.0   422983.0  0.624451 -1.073230\n",
      "20673    65805.1    26803.2 -1.542910 -1.434530\n",
      "4679    321615.0   313799.0 -0.124350 -1.513610\n",
      "15197  1983750.0  1216660.0 -1.065340  0.234737\n",
      "10919   416738.0   394079.0 -0.291164 -2.554620\n",
      "\n",
      "\n",
      "Testing sample:\n",
      "              E        pt       eta       phi\n",
      "13228  230475.0  215998.0  0.330192 -0.316867\n",
      "19229  668961.0   81680.9  2.792010  0.309055\n",
      "21888  336103.0  182975.0  1.208170  2.098790\n",
      "16103  631141.0  397401.0  1.035090  2.323450\n",
      "16573  897189.0  542092.0 -1.089020  0.956979\n",
      "\n",
      "\n",
      "The number of entries in the training data: 15862\n",
      "The number of entries in the validation data: 6799\n"
     ]
    }
   ],
   "source": [
    "#Splitting the data into train and test splits\n",
    "from sklearn.model_selection import train_test_split\n",
    "\n",
    "train, test = train_test_split(data, test_size=0.3)\n",
    "\n",
    "print('Training sample:')\n",
    "print(train.head())\n",
    "\n",
    "print('\\n')\n",
    "\n",
    "print('Testing sample:')\n",
    "print(test.head())\n",
    "\n",
    "print('\\n')\n",
    "\n",
    "print(f'The number of entries in the training data: {len(train)}')\n",
    "print(f'The number of entries in the validation data: {len(test)}')"
   ]
  },
  {
   "cell_type": "code",
   "execution_count": 7,
   "metadata": {},
   "outputs": [],
   "source": [
    "import os\n",
    "save_dir = \"plotOutput\"\n",
    "if not os.path.exists(save_dir):\n",
    "    os.makedirs(save_dir)\n",
    "    \n",
    "save = False # Option to save figure"
   ]
  },
  {
   "cell_type": "markdown",
   "metadata": {},
   "source": [
    "# Visualizing the data"
   ]
  },
  {
   "cell_type": "code",
   "execution_count": 8,
   "metadata": {},
   "outputs": [
    {
     "data": {
      "image/png": "[encoded data removed]",
      "text/plain": [
       "<Figure size 720x540 with 1 Axes>"
      ]
     },
     "metadata": {
      "needs_background": "light"
     },
     "output_type": "display_data"
    },
    {
     "data": {
      "image/png": "[encoded data removed]",
      "text/plain": [
       "<Figure size 720x540 with 1 Axes>"
      ]
     },
     "metadata": {
      "needs_background": "light"
     },
     "output_type": "display_data"
    },
    {
     "data": {
      "image/png": "[encoded data removed]",
      "text/plain": [
       "<Figure size 720x540 with 1 Axes>"
      ]
     },
     "metadata": {
      "needs_background": "light"
     },
     "output_type": "display_data"
    },
    {
     "data": {
      "image/png": "[encoded data removed]",
      "text/plain": [
       "<Figure size 720x540 with 1 Axes>"
      ]
     },
     "metadata": {
      "needs_background": "light"
     },
     "output_type": "display_data"
    }
   ],
   "source": [
    "import matplotlib.pyplot as plt\n",
    "%matplotlib inline\n",
    "\n",
    "unit_list = ['[log(GeV)]', '[log(GeV)]', '[rad/3]', '[rad/3]']\n",
    "variable_list = [r'$E$', r'$p_T$', r'$\\eta$', r'$\\phi$']\n",
    "\n",
    "branches=[\"E\", \"pt\",\"eta\",\"phi\"]\n",
    "\n",
    "n_bins = 100\n",
    "\n",
    "for kk in range(0,4):\n",
    "    plt.figure(figsize=(10,7.5))\n",
    "    n_hist_data, bin_edges, _ = plt.hist(train[branches[kk]], color='gray', label='Input', alpha=1, bins=n_bins)\n",
    "    plt.xlabel(xlabel=variable_list[kk] + ' ' + unit_list[kk])\n",
    "    plt.ylabel('# of events')\n",
    "    if save:\n",
    "        plt.savefig(os.path.join(save_dir,f'data_' + test.columns[kk] + '.png'))"
   ]
  },
  {
   "cell_type": "markdown",
   "metadata": {},
   "source": [
    "# Scaling our data"
   ]
  },
  {
   "cell_type": "code",
   "execution_count": 9,
   "metadata": {},
   "outputs": [],
   "source": [
    "from sklearn.preprocessing import MinMaxScaler\n",
    "from sklearn.preprocessing import StandardScaler\n",
    "\n",
    "def apply_log(train_x, test_x, f_name):\n",
    "    train_x[f_name] = train_x[f_name].apply(lambda x : np.log(1 + x))\n",
    "    test_x[f_name] = test_x[f_name].apply(lambda x : np.log(1 + x))\n",
    "    \n",
    "    return train_x, test_x\n",
    "    \n",
    "def apply_scaler(train_x, test_x, f_name, scaler):\n",
    "    scaler.fit(train_x[f_name].to_numpy().reshape(-1, 1))\n",
    "    train_x[f_name] = scaler.transform(train_x[f_name].to_numpy().reshape(-1, 1))\n",
    "    test_x[f_name] = scaler.transform(test_x[f_name].to_numpy().reshape(-1, 1))\n",
    "    \n",
    "    return train_x, test_x, scaler\n",
    "    \n",
    "def custom_scaler(train, test):\n",
    "    #Since \\eta follows a normal distribution, we can use standardScaler to scale it.\n",
    "    #For E and pt we can use log(1 + x)\n",
    "    # for \\phi, we can use MinMaxScaling\n",
    "    \n",
    "    train_x = train.copy(deep=True)\n",
    "    test_x = test.copy(deep=True)\n",
    "    \n",
    "    standard_scaler_eta = StandardScaler()\n",
    "    min_max_scaler_e = MinMaxScaler()\n",
    "    min_max_scaler_pt = MinMaxScaler()\n",
    "    min_max_scaler_phi = MinMaxScaler()\n",
    "    \n",
    "    \n",
    "    train_x, test_x = apply_log(train_x, test_x, 'E')\n",
    "    train_x, test_x, min_max_scaler_e = apply_scaler(train_x, test_x, 'E', min_max_scaler_e)\n",
    "    \n",
    "    train_x, test_x = apply_log(train_x, test_x, 'pt')\n",
    "    train_x, test_x, min_max_scaler_pt = apply_scaler(train_x, test_x, 'pt', min_max_scaler_pt)\n",
    "    \n",
    "    train_x, test_x, standard_scaler_eta = apply_scaler(train_x, test_x, 'eta', standard_scaler_eta)\n",
    "    \n",
    "    train_x, test_x, min_max_scaler_phi = apply_scaler(train_x, test_x, 'phi', min_max_scaler_phi)\n",
    "    \n",
    "    return train_x, test_x, min_max_scaler_e, min_max_scaler_pt, standard_scaler_eta, min_max_scaler_phi"
   ]
  },
  {
   "cell_type": "code",
   "execution_count": 10,
   "metadata": {},
   "outputs": [],
   "source": [
    "def apply_inverse_scaler(data_x, f_name, scaler):\n",
    "    data_x[f_name] = scaler.inverse_transform(data_x[f_name].to_numpy().reshape(-1, 1))\n",
    "    \n",
    "    return data_x \n",
    "\n",
    "def apply_exp(data_x, f_name):\n",
    "    data_x[f_name] = data_x[f_name].apply(lambda x : np.exp(1 + x))\n",
    "    \n",
    "    return data_x\n",
    "\n",
    "def denormalise_data(data, min_max_scaler_e, min_max_scaler_pt, standard_scaler_eta, min_max_scaler_phi):\n",
    "    \n",
    "    data_x = data.copy(deep=True)\n",
    "    data_x = apply_inverse_scaler(data_x, 'E', min_max_scaler_e)\n",
    "    data_x = apply_exp(data_x, 'E')\n",
    "    \n",
    "    data_x = apply_inverse_scaler(data_x, 'pt', min_max_scaler_pt)\n",
    "    data_x = apply_exp(data_x, 'pt')\n",
    "    \n",
    "    data_x = apply_inverse_scaler(data_x, 'eta', standard_scaler_eta)\n",
    "    \n",
    "    data_x = apply_inverse_scaler(data_x, 'phi', min_max_scaler_phi)\n",
    "    \n",
    "    return data_x"
   ]
  },
  {
   "cell_type": "code",
   "execution_count": 11,
   "metadata": {},
   "outputs": [],
   "source": [
    "eta_div = 5\n",
    "phi_div = 3\n",
    "\n",
    "m_add = 1\n",
    "m_div = 1.8\n",
    "\n",
    "pt_div = 1.2\n",
    "pt_sub = 1.3\n",
    "\n",
    "def prev_normalize(data):\n",
    "    data['eta'] = data['eta'] / eta_div\n",
    "    data['phi'] = data['phi'] / phi_div\n",
    "    data['E'] = np.log10(data['E'] + m_add) / m_div\n",
    "    data['pt'] = (np.log10(data['pt']) - pt_sub) / pt_div\n",
    "    \n",
    "    return data"
   ]
  },
  {
   "cell_type": "code",
   "execution_count": 12,
   "metadata": {},
   "outputs": [
    {
     "name": "stdout",
     "output_type": "stream",
     "text": [
      "Normalised Training sample:\n",
      "              E        pt       eta       phi\n",
      "20337  3.172784  3.605269  0.124890 -0.357743\n",
      "20673  2.676815  2.606822 -0.308582 -0.478177\n",
      "4679   3.059632  3.497210 -0.024870 -0.504537\n",
      "15197  3.498604  3.987641 -0.213068  0.078246\n",
      "10919  3.122147  3.579653 -0.058233 -0.851540\n",
      "\n",
      "\n",
      "Normalised Testing sample:\n",
      "              E        pt       eta       phi\n",
      "13228  2.979237  3.362041  0.066038 -0.105622\n",
      "19229  3.236334  3.010100  0.558402  0.103018\n",
      "21888  3.070263  3.301993  0.241634  0.699597\n",
      "16103  3.222293  3.582691  0.207018  0.774483\n",
      "16573  3.307158  3.695061 -0.217804  0.318993\n",
      "\n",
      "\n"
     ]
    },
    {
     "name": "stderr",
     "output_type": "stream",
     "text": [
      "<ipython-input-11-9bfa618b0d56>:11: SettingWithCopyWarning: \n",
      "A value is trying to be set on a copy of a slice from a DataFrame.\n",
      "Try using .loc[row_indexer,col_indexer] = value instead\n",
      "\n",
      "See the caveats in the documentation: http://pandas.pydata.org/pandas-docs/stable/user_guide/indexing.html#returning-a-view-versus-a-copy\n",
      "  data['eta'] = data['eta'] / eta_div\n",
      "<ipython-input-11-9bfa618b0d56>:12: SettingWithCopyWarning: \n",
      "A value is trying to be set on a copy of a slice from a DataFrame.\n",
      "Try using .loc[row_indexer,col_indexer] = value instead\n",
      "\n",
      "See the caveats in the documentation: http://pandas.pydata.org/pandas-docs/stable/user_guide/indexing.html#returning-a-view-versus-a-copy\n",
      "  data['phi'] = data['phi'] / phi_div\n",
      "<ipython-input-11-9bfa618b0d56>:13: SettingWithCopyWarning: \n",
      "A value is trying to be set on a copy of a slice from a DataFrame.\n",
      "Try using .loc[row_indexer,col_indexer] = value instead\n",
      "\n",
      "See the caveats in the documentation: http://pandas.pydata.org/pandas-docs/stable/user_guide/indexing.html#returning-a-view-versus-a-copy\n",
      "  data['E'] = np.log10(data['E'] + m_add) / m_div\n",
      "<ipython-input-11-9bfa618b0d56>:14: SettingWithCopyWarning: \n",
      "A value is trying to be set on a copy of a slice from a DataFrame.\n",
      "Try using .loc[row_indexer,col_indexer] = value instead\n",
      "\n",
      "See the caveats in the documentation: http://pandas.pydata.org/pandas-docs/stable/user_guide/indexing.html#returning-a-view-versus-a-copy\n",
      "  data['pt'] = (np.log10(data['pt']) - pt_sub) / pt_div\n"
     ]
    }
   ],
   "source": [
    "# 1 for custom scaling, 2 for StandardScaler, 3 for MinMaxScaler, 4 for previous method\n",
    "scaling_method = 4\n",
    "\n",
    "if (scaling_method == 1):\n",
    "    train_x, test_x, min_max_scaler_e, min_max_scaler_pt, standard_scaler_eta, min_max_scaler_phi \\\n",
    "        = custom_scaler(train, test)\n",
    "\n",
    "elif (scaling_method == 4):\n",
    "    train_x = prev_normalize(train)\n",
    "    test_x = prev_normalize(test)\n",
    "else:\n",
    "    if (scaling_method == 2):\n",
    "        scaler = StandardScaler()\n",
    "    elif(scaling_method == 3):\n",
    "        scaler = MinMaxScaler()\n",
    "    \n",
    "    scaler.fit(train)\n",
    "\n",
    "    train_x = pd.DataFrame(scaler.transform(train.to_numpy()), columns=train.columns)\n",
    "    test_x = pd.DataFrame(scaler.transform(test.to_numpy()), columns=test.columns)\n",
    "\n",
    "print('Normalised Training sample:')\n",
    "print(train_x.head())\n",
    "\n",
    "print('\\n')\n",
    "\n",
    "print('Normalised Testing sample:')\n",
    "print(test_x.head())\n",
    "\n",
    "print('\\n')"
   ]
  },
  {
   "cell_type": "markdown",
   "metadata": {},
   "source": [
    "# Defining the network"
   ]
  },
  {
   "cell_type": "code",
   "execution_count": 13,
   "metadata": {},
   "outputs": [],
   "source": [
    "import torch\n",
    "import torch.nn as nn\n",
    "import torch.optim as optim\n",
    "import torch.utils.data\n",
    "from torch.autograd import Variable\n",
    "\n",
    "from torch.utils.data import TensorDataset\n",
    "from torch.utils.data import DataLoader\n",
    "\n",
    "train_y = train_x  # y = x since we are building an autoencoder\n",
    "test_y = test_x\n",
    "\n",
    "from fastai import learner\n",
    "from fastai.data import core\n",
    "\n",
    "# Constructs a tensor object of the data and wraps them in a TensorDataset object.\n",
    "train_ds = TensorDataset(torch.tensor(train_x.values, dtype=torch.float), torch.tensor(train_y.values, dtype=torch.float))\n",
    "valid_ds = TensorDataset(torch.tensor(test_x.values, dtype=torch.float), torch.tensor(test_y.values, dtype=torch.float))"
   ]
  },
  {
   "cell_type": "code",
   "execution_count": 14,
   "metadata": {},
   "outputs": [],
   "source": [
    "bs = 256\n",
    "\n",
    "# Converts the TensorDataset into a DataLoader object and combines into one DataLoaders object (a basic wrapper\n",
    "# around several DataLoader objects). \n",
    "train_dl = DataLoader(train_ds, batch_size=bs, shuffle=True)\n",
    "valid_dl = DataLoader(valid_ds, batch_size=bs * 2)\n",
    "dls = core.DataLoaders(train_dl, valid_dl)"
   ]
  },
  {
   "cell_type": "code",
   "execution_count": 15,
   "metadata": {},
   "outputs": [
    {
     "data": {
      "text/plain": [
       "AE_3D_200_LeakyReLU(\n",
       "  (en1): Linear(in_features=4, out_features=200, bias=True)\n",
       "  (en2): Linear(in_features=200, out_features=200, bias=True)\n",
       "  (en3): Linear(in_features=200, out_features=20, bias=True)\n",
       "  (en4): Linear(in_features=20, out_features=3, bias=True)\n",
       "  (de1): Linear(in_features=3, out_features=20, bias=True)\n",
       "  (de2): Linear(in_features=20, out_features=200, bias=True)\n",
       "  (de3): Linear(in_features=200, out_features=200, bias=True)\n",
       "  (de4): Linear(in_features=200, out_features=4, bias=True)\n",
       "  (tanh): Tanh()\n",
       ")"
      ]
     },
     "execution_count": 15,
     "metadata": {},
     "output_type": "execute_result"
    }
   ],
   "source": [
    "  class AE_3D_200_LeakyReLU(nn.Module):\n",
    "    def __init__(self, n_features=4):\n",
    "        super(AE_3D_200_LeakyReLU, self).__init__()\n",
    "        self.en1 = nn.Linear(n_features, 200)\n",
    "        self.en2 = nn.Linear(200, 200)\n",
    "        self.en3 = nn.Linear(200, 20)\n",
    "        self.en4 = nn.Linear(20, 3)\n",
    "        \n",
    "        self.de1 = nn.Linear(3, 20)\n",
    "        self.de2 = nn.Linear(20, 200)\n",
    "        self.de3 = nn.Linear(200, 200)\n",
    "        self.de4 = nn.Linear(200, n_features)\n",
    "        self.tanh = nn.Tanh()\n",
    "\n",
    "    def encode(self, x):\n",
    "        return self.en4(self.tanh(self.en3(self.tanh(self.en2(self.tanh(self.en1(x)))))))\n",
    "\n",
    "    def decode(self, x):\n",
    "        return self.de4(self.tanh(self.de3(self.tanh(self.de2(self.tanh(self.de1(self.tanh(x))))))))\n",
    "\n",
    "    def forward(self, x):\n",
    "        z = self.encode(x)\n",
    "        return self.decode(z)\n",
    "\n",
    "    def describe(self):\n",
    "        return 'in-200-200-20-3-20-200-200-out'\n",
    "\n",
    "model = AE_3D_200_LeakyReLU()\n",
    "model.to('cpu')"
   ]
  },
  {
   "cell_type": "code",
   "execution_count": 16,
   "metadata": {},
   "outputs": [],
   "source": [
    "from fastai.metrics import mse\n",
    "\n",
    "loss_func = nn.MSELoss()\n",
    "\n",
    "wd = 1e-6\n",
    "\n",
    "recorder = learner.Recorder()\n",
    "learn = learner.Learner(dls, model=model, wd=wd, loss_func=loss_func, cbs=recorder)"
   ]
  },
  {
   "cell_type": "code",
   "execution_count": 17,
   "metadata": {},
   "outputs": [
    {
     "name": "stdout",
     "output_type": "stream",
     "text": [
      "Learning rate with the minimum loss: 0.006918309628963471\n",
      "Learning rate with the steepest gradient: 0.0014454397605732083\n"
     ]
    },
    {
     "data": {
      "image/png": "[encoded data removed]",
      "text/plain": [
       "<Figure size 432x288 with 1 Axes>"
      ]
     },
     "metadata": {
      "needs_background": "light"
     },
     "output_type": "display_data"
    }
   ],
   "source": [
    "from fastai.callback import schedule\n",
    "\n",
    "lr_min, lr_steep = learn.lr_find()\n",
    "\n",
    "print('Learning rate with the minimum loss:', lr_min)\n",
    "print('Learning rate with the steepest gradient:', lr_steep)"
   ]
  },
  {
   "cell_type": "markdown",
   "metadata": {},
   "source": [
    "# Training the network"
   ]
  },
  {
   "cell_type": "code",
   "execution_count": null,
   "metadata": {},
   "outputs": [
    {
     "name": "stdout",
     "output_type": "stream",
     "text": [
      "[0, 1.018385410308838, 0.30034443736076355, '00:00']\n",
      "[0, 1.018385410308838, 0.30034443736076355, '00:00']\n",
      "[1, 0.3715643286705017, 0.1804865300655365, '00:00']\n",
      "[1, 0.3715643286705017, 0.1804865300655365, '00:00']\n",
      "[2, 0.22562171518802643, 0.17393852770328522, '00:00']\n",
      "[2, 0.22562171518802643, 0.17393852770328522, '00:00']\n",
      "[3, 0.1865193247795105, 0.1727285534143448, '00:00']\n",
      "[3, 0.1865193247795105, 0.1727285534143448, '00:00']\n",
      "[4, 0.1397075206041336, 0.07620330154895782, '00:00']\n",
      "[4, 0.1397075206041336, 0.07620330154895782, '00:00']\n",
      "[5, 0.06783822923898697, 0.029889656230807304, '00:00']\n",
      "[5, 0.06783822923898697, 0.029889656230807304, '00:00']\n",
      "[6, 0.04008808359503746, 0.028955599293112755, '00:00']\n",
      "[6, 0.04008808359503746, 0.028955599293112755, '00:00']\n",
      "[7, 0.028727032244205475, 0.024525117129087448, '00:00']\n",
      "[7, 0.028727032244205475, 0.024525117129087448, '00:00']\n",
      "[8, 0.013903687708079815, 0.006332543678581715, '00:00']\n",
      "[8, 0.013903687708079815, 0.006332543678581715, '00:00']\n",
      "[9, 0.009138760156929493, 0.007460698019713163, '00:00']\n",
      "[9, 0.009138760156929493, 0.007460698019713163, '00:00']\n",
      "[10, 0.008087638765573502, 0.007124539464712143, '00:00']\n",
      "[10, 0.008087638765573502, 0.007124539464712143, '00:00']\n",
      "[11, 0.006459194701164961, 0.0028916066512465477, '00:00']\n",
      "[11, 0.006459194701164961, 0.0028916066512465477, '00:00']\n",
      "[12, 0.003508815076202154, 0.00308567495085299, '00:00']\n",
      "[12, 0.003508815076202154, 0.00308567495085299, '00:00']\n",
      "[13, 0.0047962479293346405, 0.008366589434444904, '00:00']\n",
      "[13, 0.0047962479293346405, 0.008366589434444904, '00:00']\n",
      "[14, 0.005660280119627714, 0.00828409381210804, '00:00']\n",
      "[14, 0.005660280119627714, 0.00828409381210804, '00:00']\n",
      "[15, 0.004945279564708471, 0.003708065487444401, '00:00']\n",
      "[15, 0.004945279564708471, 0.003708065487444401, '00:00']\n",
      "[16, 0.00440241489559412, 0.001947161159478128, '00:00']\n",
      "[16, 0.00440241489559412, 0.001947161159478128, '00:00']\n",
      "[17, 0.004833534825593233, 0.02187030017375946, '00:00']\n",
      "[17, 0.004833534825593233, 0.02187030017375946, '00:00']\n",
      "[18, 0.00478413887321949, 0.017656274139881134, '00:00']\n",
      "[18, 0.00478413887321949, 0.017656274139881134, '00:00']\n",
      "[19, 0.004563695285469294, 0.0008427630527876318, '00:00']\n",
      "[19, 0.004563695285469294, 0.0008427630527876318, '00:00']\n",
      "[20, 0.004916678182780743, 0.0010651189368218184, '00:00']\n",
      "[20, 0.004916678182780743, 0.0010651189368218184, '00:00']\n",
      "[21, 0.004599276464432478, 0.0074476199224591255, '00:00']\n",
      "[21, 0.004599276464432478, 0.0074476199224591255, '00:00']\n",
      "[22, 0.00546051561832428, 0.0025128968991339207, '00:00']\n",
      "[22, 0.00546051561832428, 0.0025128968991339207, '00:00']\n",
      "[23, 0.004590078257024288, 0.001144524198025465, '00:00']\n",
      "[23, 0.004590078257024288, 0.001144524198025465, '00:00']\n",
      "[24, 0.004354547243565321, 0.0034587127156555653, '00:00']\n",
      "[24, 0.004354547243565321, 0.0034587127156555653, '00:00']\n",
      "[25, 0.0038635588716715574, 0.0017987455939874053, '00:00']\n",
      "[25, 0.0038635588716715574, 0.0017987455939874053, '00:00']\n",
      "[26, 0.0052175018936395645, 0.001478550722822547, '00:00']\n",
      "[26, 0.0052175018936395645, 0.001478550722822547, '00:00']\n",
      "[27, 0.0034038368612527847, 0.0010271123610436916, '00:00']\n",
      "[27, 0.0034038368612527847, 0.0010271123610436916, '00:00']\n",
      "[28, 0.002746172482147813, 0.0005627449136227369, '00:00']\n",
      "[28, 0.002746172482147813, 0.0005627449136227369, '00:00']\n",
      "[29, 0.0035516745410859585, 0.0006117506418377161, '00:00']\n",
      "[29, 0.0035516745410859585, 0.0006117506418377161, '00:00']\n",
      "[30, 0.0027355749625712633, 0.001673468854278326, '00:00']\n",
      "[30, 0.0027355749625712633, 0.001673468854278326, '00:00']\n",
      "[31, 0.0034003588370978832, 0.004107701126486063, '00:00']\n",
      "[31, 0.0034003588370978832, 0.004107701126486063, '00:00']\n",
      "[32, 0.003099527209997177, 0.007976542226970196, '00:00']\n",
      "[32, 0.003099527209997177, 0.007976542226970196, '00:00']\n",
      "[33, 0.0025561463553458452, 0.0014252490364015102, '00:00']\n",
      "[33, 0.0025561463553458452, 0.0014252490364015102, '00:00']\n",
      "[34, 0.0021648870315402746, 0.0037697339430451393, '00:00']\n",
      "[34, 0.0021648870315402746, 0.0037697339430451393, '00:00']\n",
      "[35, 0.001853328780271113, 0.0012597006279975176, '00:00']\n",
      "[35, 0.001853328780271113, 0.0012597006279975176, '00:00']\n",
      "[36, 0.0020036334171891212, 0.001173514756374061, '00:00']\n",
      "[36, 0.0020036334171891212, 0.001173514756374061, '00:00']\n",
      "[37, 0.0022303739096969366, 0.001866395235992968, '00:00']\n",
      "[37, 0.0022303739096969366, 0.001866395235992968, '00:00']\n",
      "[38, 0.001453275210224092, 0.0011236218269914389, '00:00']\n",
      "[38, 0.001453275210224092, 0.0011236218269914389, '00:00']\n",
      "[39, 0.0028490948025137186, 0.025906184688210487, '00:00']\n",
      "[39, 0.0028490948025137186, 0.025906184688210487, '00:00']\n",
      "[40, 0.0028172351885586977, 0.000295770529191941, '00:00']\n",
      "[40, 0.0028172351885586977, 0.000295770529191941, '00:00']\n",
      "[41, 0.001139588188380003, 0.00021785452554468066, '00:00']\n",
      "[41, 0.001139588188380003, 0.00021785452554468066, '00:00']\n",
      "[42, 0.001504990505054593, 0.0008112636860460043, '00:00']\n",
      "[42, 0.001504990505054593, 0.0008112636860460043, '00:00']\n",
      "[43, 0.0011584166204556823, 0.002642870880663395, '00:00']\n",
      "[43, 0.0011584166204556823, 0.002642870880663395, '00:00']\n",
      "[44, 0.0009509852388873696, 0.0005659897578880191, '00:00']\n",
      "[44, 0.0009509852388873696, 0.0005659897578880191, '00:00']\n",
      "[45, 0.0009900255827233195, 0.00024352215405087918, '00:00']\n",
      "[45, 0.0009900255827233195, 0.00024352215405087918, '00:00']\n",
      "[46, 0.0012314802734181285, 0.0007725045434199274, '00:00']\n",
      "[46, 0.0012314802734181285, 0.0007725045434199274, '00:00']\n",
      "[47, 0.0010489539708942175, 0.001252832473255694, '00:00']\n",
      "[47, 0.0010489539708942175, 0.001252832473255694, '00:00']\n",
      "[48, 0.0007757116109132767, 0.00040261916001327336, '00:00']\n",
      "[48, 0.0007757116109132767, 0.00040261916001327336, '00:00']\n",
      "[49, 0.0007856981828808784, 0.0006715137860737741, '00:00']\n",
      "[49, 0.0007856981828808784, 0.0006715137860737741, '00:00']\n",
      "[50, 0.0008367604459635913, 0.0005191310774534941, '00:00']\n",
      "[50, 0.0008367604459635913, 0.0005191310774534941, '00:00']\n",
      "[51, 0.0005779509083367884, 0.00031921721529215574, '00:00']\n",
      "[51, 0.0005779509083367884, 0.00031921721529215574, '00:00']\n",
      "[52, 0.0009914422407746315, 0.0012832214124500751, '00:00']\n",
      "[52, 0.0009914422407746315, 0.0012832214124500751, '00:00']\n",
      "[53, 0.0005794514436274767, 9.097599831875414e-05, '00:00']\n",
      "[53, 0.0005794514436274767, 9.097599831875414e-05, '00:00']\n",
      "[54, 0.00038904737448319793, 0.0006719550583511591, '00:00']\n",
      "[54, 0.00038904737448319793, 0.0006719550583511591, '00:00']\n",
      "[55, 0.0003725276910699904, 0.00019398724543862045, '00:00']\n",
      "[55, 0.0003725276910699904, 0.00019398724543862045, '00:00']\n",
      "[56, 0.0005599671858362854, 0.00026510018506087363, '00:00']\n",
      "[56, 0.0005599671858362854, 0.00026510018506087363, '00:00']\n",
      "[57, 0.00033537522540427744, 0.00013600385864265263, '00:00']\n",
      "[57, 0.00033537522540427744, 0.00013600385864265263, '00:00']\n",
      "[58, 0.00027945268084295094, 0.00010576545173535123, '00:00']\n",
      "[58, 0.00027945268084295094, 0.00010576545173535123, '00:00']\n",
      "[59, 0.00026476747007109225, 0.00031405017944052815, '00:00']\n",
      "[59, 0.00026476747007109225, 0.00031405017944052815, '00:00']\n",
      "[60, 0.0002446877188049257, 0.0001535403134766966, '00:00']\n",
      "[60, 0.0002446877188049257, 0.0001535403134766966, '00:00']\n",
      "[61, 0.00021080009173601866, 9.737748769111931e-05, '00:00']\n",
      "[61, 0.00021080009173601866, 9.737748769111931e-05, '00:00']\n",
      "[62, 0.00021731008018832654, 0.00019961480575148016, '00:00']\n",
      "[62, 0.00021731008018832654, 0.00019961480575148016, '00:00']\n",
      "[63, 0.00017320386541541666, 0.00013757895794697106, '00:00']\n",
      "[63, 0.00017320386541541666, 0.00013757895794697106, '00:00']\n",
      "[64, 0.00013034767471253872, 5.5566611990798265e-05, '00:00']\n",
      "[64, 0.00013034767471253872, 5.5566611990798265e-05, '00:00']\n",
      "[65, 0.00013921356003265828, 8.751069981371984e-05, '00:00']\n",
      "[65, 0.00013921356003265828, 8.751069981371984e-05, '00:00']\n",
      "[66, 0.00010647719318512827, 0.00011026629363186657, '00:00']\n",
      "[66, 0.00010647719318512827, 0.00011026629363186657, '00:00']\n",
      "[67, 8.825090480968356e-05, 7.792736141709611e-05, '00:00']\n",
      "[67, 8.825090480968356e-05, 7.792736141709611e-05, '00:00']\n",
      "[68, 7.50786712160334e-05, 6.629950075875968e-05, '00:00']\n",
      "[68, 7.50786712160334e-05, 6.629950075875968e-05, '00:00']\n",
      "[69, 6.080888488213532e-05, 3.7818415876245126e-05, '00:00']\n",
      "[69, 6.080888488213532e-05, 3.7818415876245126e-05, '00:00']\n"
     ]
    },
    {
     "name": "stdout",
     "output_type": "stream",
     "text": [
      "[70, 6.524135824292898e-05, 8.274127321783453e-05, '00:00']\n",
      "[70, 6.524135824292898e-05, 8.274127321783453e-05, '00:00']\n",
      "[71, 5.809976573800668e-05, 7.791188545525074e-05, '00:00']\n",
      "[71, 5.809976573800668e-05, 7.791188545525074e-05, '00:00']\n",
      "[72, 4.7075933252926916e-05, 3.7180234357947484e-05, '00:00']\n",
      "[72, 4.7075933252926916e-05, 3.7180234357947484e-05, '00:00']\n",
      "[73, 3.9075774111552164e-05, 2.8929382096976042e-05, '00:00']\n",
      "[73, 3.9075774111552164e-05, 2.8929382096976042e-05, '00:00']\n",
      "[74, 2.8166814445285127e-05, 1.1313543836877216e-05, '00:00']\n",
      "[74, 2.8166814445285127e-05, 1.1313543836877216e-05, '00:00']\n",
      "[75, 2.9760036341031082e-05, 1.6410829630331136e-05, '00:00']\n",
      "[75, 2.9760036341031082e-05, 1.6410829630331136e-05, '00:00']\n",
      "[76, 2.3015185433905572e-05, 1.415197220921982e-05, '00:00']\n",
      "[76, 2.3015185433905572e-05, 1.415197220921982e-05, '00:00']\n",
      "[77, 1.7597789337742142e-05, 9.248238711734302e-06, '00:00']\n",
      "[77, 1.7597789337742142e-05, 9.248238711734302e-06, '00:00']\n",
      "[78, 2.049045178864617e-05, 1.650385274842847e-05, '00:00']\n",
      "[78, 2.049045178864617e-05, 1.650385274842847e-05, '00:00']\n",
      "[79, 1.7783209841581993e-05, 1.1114682820334565e-05, '00:00']\n",
      "[79, 1.7783209841581993e-05, 1.1114682820334565e-05, '00:00']\n",
      "[80, 1.2188560504000634e-05, 7.894654117990285e-06, '00:00']\n",
      "[80, 1.2188560504000634e-05, 7.894654117990285e-06, '00:00']\n",
      "[81, 1.1301096492388751e-05, 8.725868610781617e-06, '00:00']\n",
      "[81, 1.1301096492388751e-05, 8.725868610781617e-06, '00:00']\n",
      "[82, 8.678444828547072e-06, 6.159170879982412e-06, '00:00']\n",
      "[82, 8.678444828547072e-06, 6.159170879982412e-06, '00:00']\n",
      "[83, 7.617252776981331e-06, 1.0136863238585647e-05, '00:00']\n",
      "[83, 7.617252776981331e-06, 1.0136863238585647e-05, '00:00']\n",
      "[84, 6.947503607079852e-06, 5.583375241258182e-06, '00:00']\n",
      "[84, 6.947503607079852e-06, 5.583375241258182e-06, '00:00']\n",
      "[85, 6.31979719400988e-06, 8.157116099027917e-06, '00:00']\n",
      "[85, 6.31979719400988e-06, 8.157116099027917e-06, '00:00']\n",
      "[86, 5.91628440815839e-06, 5.506345132744173e-06, '00:00']\n",
      "[86, 5.91628440815839e-06, 5.506345132744173e-06, '00:00']\n",
      "[87, 5.461989985633409e-06, 5.400328063842608e-06, '00:00']\n",
      "[87, 5.461989985633409e-06, 5.400328063842608e-06, '00:00']\n",
      "[88, 5.034288278693566e-06, 5.330528892955044e-06, '00:00']\n",
      "[88, 5.034288278693566e-06, 5.330528892955044e-06, '00:00']\n"
     ]
    }
   ],
   "source": [
    "import time\n",
    "\n",
    "start = time.perf_counter() # Starts timer\n",
    "learn.fit_one_cycle(100, lr_min)\n",
    "end = time.perf_counter() # Ends timer\n",
    "delta_t = end - start\n",
    "print('Training took', delta_t, 'seconds')"
   ]
  },
  {
   "cell_type": "code",
   "execution_count": 18,
   "metadata": {},
   "outputs": [
    {
     "data": {
      "image/png": "[encoded data removed]",
      "text/plain": [
       "<Figure size 432x288 with 1 Axes>"
      ]
     },
     "metadata": {
      "needs_background": "light"
     },
     "output_type": "display_data"
    }
   ],
   "source": [
    "recorder.plot_loss()"
   ]
  },
  {
   "cell_type": "code",
   "execution_count": 19,
   "metadata": {},
   "outputs": [
    {
     "data": {
      "text/plain": [
       "(#1) [2.2344438548316248e-06]"
      ]
     },
     "execution_count": 19,
     "metadata": {},
     "output_type": "execute_result"
    }
   ],
   "source": [
    "learn.validate()"
   ]
  },
  {
   "cell_type": "markdown",
   "metadata": {},
   "source": [
    "# Making the compression plots"
   ]
  },
  {
   "cell_type": "code",
   "execution_count": 20,
   "metadata": {},
   "outputs": [
    {
     "data": {
      "image/png": "[encoded data removed]",
      "text/plain": [
       "<Figure size 720x540 with 1 Axes>"
      ]
     },
     "metadata": {
      "needs_background": "light"
     },
     "output_type": "display_data"
    },
    {
     "data": {
      "image/png": "[encoded data removed]",
      "text/plain": [
       "<Figure size 720x540 with 1 Axes>"
      ]
     },
     "metadata": {
      "needs_background": "light"
     },
     "output_type": "display_data"
    },
    {
     "data": {
      "image/png": "[encoded data removed]",
      "text/plain": [
       "<Figure size 720x540 with 1 Axes>"
      ]
     },
     "metadata": {
      "needs_background": "light"
     },
     "output_type": "display_data"
    },
    {
     "data": {
      "image/png": "[encoded data removed]",
      "text/plain": [
       "<Figure size 720x540 with 1 Axes>"
      ]
     },
     "metadata": {
      "needs_background": "light"
     },
     "output_type": "display_data"
    }
   ],
   "source": [
    "import numpy as np\n",
    "\n",
    "plt.close('all')\n",
    "variable_list = [r'$E$', r'$p_{T,in}$', r'$\\eta$', r'$\\phi$']\n",
    "\n",
    "line_style = ['--', '-']\n",
    "colors = ['orange', 'c']\n",
    "markers = ['*', 's']\n",
    "\n",
    "model.to('cpu')\n",
    "\n",
    "# Histograms\n",
    "idxs = (0, 100000)  # Choose events to compare\n",
    "data = torch.tensor(test_x[idxs[0]:idxs[1]].values, dtype=torch.float)\n",
    "pred = model(data)\n",
    "pred = pred.detach().numpy()\n",
    "data = data.detach().numpy()\n",
    "\n",
    "data_df = pd.DataFrame(data, columns=test.columns)\n",
    "pred_df = pd.DataFrame(pred, columns=test.columns)\n",
    "\n",
    "if (scaling_method == 1):\n",
    "    unnormalized_data_df = denormalise_data(data_df, min_max_scaler_e, min_max_scaler_pt, standard_scaler_eta, min_max_scaler_phi)\n",
    "    unnormalized_pred_df = denormalise_data(pred_df, min_max_scaler_e, min_max_scaler_pt, standard_scaler_eta, min_max_scaler_phi)\n",
    "else:\n",
    "    unnormalized_data_df = pd.DataFrame(scaler.inverse_transform(data), columns=data_df.columns)\n",
    "    unnormalized_pred_df = pd.DataFrame(scaler.inverse_transform(pred), columns=pred_df.columns)\n",
    "    \n",
    "unnormalized_data = unnormalized_data_df.to_numpy()\n",
    "unnormalized_pred = unnormalized_pred_df.to_numpy()\n",
    "    \n",
    "alph = 0.8\n",
    "n_bins = 200\n",
    "for kk in np.arange(4):\n",
    "    plt.figure(figsize=(10,7.5))\n",
    "    plt.ticklabel_format(axis=\"both\", style=\"sci\")\n",
    "    n_hist_data, bin_edges, _ = plt.hist(unnormalized_data[:, kk], color=colors[1], label='Input', alpha=1, bins=n_bins)\n",
    "    n_hist_pred, _, _ = plt.hist(unnormalized_pred[:, kk], color=colors[0], label='Output', alpha=alph, bins=bin_edges)\n",
    "    plt.suptitle(test.columns[kk])\n",
    "    plt.xlabel(xlabel=variable_list[kk])\n",
    "    plt.ylabel('Number of events')\n",
    "    plt.yscale('log')\n",
    "    plt.legend()\n",
    "    if save:\n",
    "        plt.savefig(os.path.join(save_dir,'compression_' + test.columns[kk] + '_' + str(scaling_method) +'.png'))"
   ]
  },
  {
   "cell_type": "markdown",
   "metadata": {},
   "source": [
    "# Making the residual plots"
   ]
  },
  {
   "cell_type": "code",
   "execution_count": 21,
   "metadata": {},
   "outputs": [
    {
     "data": {
      "image/png": "[encoded data removed]",
      "text/plain": [
       "<Figure size 720x540 with 1 Axes>"
      ]
     },
     "metadata": {
      "needs_background": "light"
     },
     "output_type": "display_data"
    },
    {
     "data": {
      "image/png": "[encoded data removed]",
      "text/plain": [
       "<Figure size 720x540 with 1 Axes>"
      ]
     },
     "metadata": {
      "needs_background": "light"
     },
     "output_type": "display_data"
    },
    {
     "data": {
      "image/png": "[encoded data removed]",
      "text/plain": [
       "<Figure size 720x540 with 1 Axes>"
      ]
     },
     "metadata": {
      "needs_background": "light"
     },
     "output_type": "display_data"
    },
    {
     "data": {
      "image/png": "[encoded data removed]",
      "text/plain": [
       "<Figure size 720x540 with 1 Axes>"
      ]
     },
     "metadata": {
      "needs_background": "light"
     },
     "output_type": "display_data"
    }
   ],
   "source": [
    "residual_df = (data_df - pred_df) / data_df\n",
    "residual_data = residual_df.to_numpy()\n",
    "\n",
    "variable_list = [r'$(E_{in} - E_{out})/E_{in}$', r'$(p_{T, in} - p_{T, out})/p_{T, in}$', \n",
    "                 r'$(\\eta_{in} - \\eta_{out})/\\eta_{in}$', r'$(\\phi_{in} - \\phi_{out})/\\phi_{in}$']\n",
    "title_list = [r'$E$', r'$p_T$', r'$\\eta$', r'$\\phi$']\n",
    "\n",
    "n_bins = 200\n",
    "for kk in np.arange(4):\n",
    "    inset_text_str = ', '.join((\n",
    "        'mean=%.2f' % (np.mean(residual_data[:, kk]), ),\n",
    "        'std=%.2f' % (np.std(residual_data[:, kk]), )))\n",
    "    props = dict(boxstyle='round', facecolor='wheat', alpha=0.5)\n",
    "\n",
    "    \n",
    "    fig, ax = plt.subplots(figsize=(10, 7.5))\n",
    "    plt.text(0.525, 1.125, inset_text_str, transform=ax.transAxes, fontsize=14,\n",
    "        verticalalignment='top', bbox=props)\n",
    "    n_hist_data, bin_edges, _ = plt.hist(residual_data[:, kk], color=colors[1], bins=n_bins)\n",
    "    plt.suptitle('Residual plot for ' + title_list[kk], horizontalalignment='right')\n",
    "    plt.xlabel(xlabel=variable_list[kk])\n",
    "    plt.ylabel('Number of events')\n",
    "    plt.yscale('log')\n",
    "    if save:\n",
    "        plt.savefig(os.path.join(save_dir,'residual_' + residual_df.columns[kk] + '_' + str(scaling_method) + '.png'))"
   ]
  },
  {
   "cell_type": "code",
   "execution_count": null,
   "metadata": {},
   "outputs": [],
   "source": []
  }
 ],
 "metadata": {
  "kernelspec": {
   "display_name": "Python 3",
   "language": "python",
   "name": "python3"
  },
  "language_info": {
   "codemirror_mode": {
    "name": "ipython",
    "version": 3
   },
   "file_extension": ".py",
   "mimetype": "text/x-python",
   "name": "python",
   "nbconvert_exporter": "python",
   "pygments_lexer": "ipython3",
   "version": "3.8.5"
  }
 },
 "nbformat": 4,
 "nbformat_minor": 2
}
